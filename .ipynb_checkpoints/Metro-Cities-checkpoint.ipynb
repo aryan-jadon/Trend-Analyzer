{
 "cells": [
  {
   "cell_type": "code",
   "execution_count": 2,
   "metadata": {},
   "outputs": [
    {
     "ename": "SyntaxError",
     "evalue": "invalid syntax (<ipython-input-2-f2c13faf1ae0>, line 58)",
     "output_type": "error",
     "traceback": [
      "\u001b[0;36m  File \u001b[0;32m\"<ipython-input-2-f2c13faf1ae0>\"\u001b[0;36m, line \u001b[0;32m58\u001b[0m\n\u001b[0;31m    fig.write_image(.jpeg\")\u001b[0m\n\u001b[0m                    ^\u001b[0m\n\u001b[0;31mSyntaxError\u001b[0m\u001b[0;31m:\u001b[0m invalid syntax\n"
     ]
    }
   ],
   "source": [
    "from datetime import datetime, timedelta\n",
    "import pandas as pd\n",
    "from pytrends.request import TrendReq\n",
    "from tqdm import tqdm\n",
    "import plotly.express as px\n",
    "import plotly.graph_objects as go\n",
    "\n",
    "\n",
    "def plot_trend(Trend_keyword):\n",
    "    keywords_to_search = Trend_keyword\n",
    "    pytrend = TrendReq()\n",
    "    Keyword = keywords_to_search\n",
    "    kw_list = [keywords_to_search] \n",
    "    pytrend.build_payload(kw_list, cat=0,timeframe = \"now 7-d\" , gprop='')\n",
    "    City  = pytrend.interest_by_region(resolution='DMA',inc_low_vol=True, inc_geo_code=True)\n",
    "    City_Names = City.index\n",
    "    City[\"City_Names\"] = City_Names\n",
    "    Records = pd.read_csv(\"Module-Data/Metro-Cities.csv\")\n",
    "    Results = []\n",
    "\n",
    "    for city in City[\"City_Names\"]:\n",
    "        try:\n",
    "\n",
    "            Frame = City[City[\"City_Names\"]==city]\n",
    "            Frame.sort_values(keywords_to_search, axis = 0, ascending = False, inplace = True) \n",
    "            keywordValue = Frame.iloc[0][keywords_to_search].item()\n",
    "\n",
    "            Data = Records[Records[\"City\"]== city]\n",
    "            latitude = Data[\"lat\"].item()\n",
    "            longitude = Data[\"lon\"].item()\n",
    "\n",
    "            Results.append((\n",
    "                city,\n",
    "                keywordValue,\n",
    "                latitude,\n",
    "                longitude\n",
    "            ))\n",
    "        except:\n",
    "            #print(city)\n",
    "            pass\n",
    "            \n",
    "    Results = pd.DataFrame(Results,columns=[\"City\",\"Score\",\"lat\",\"lon\"])\n",
    "    fig = px.scatter_mapbox(Results, \n",
    "                            lat=\"lat\",\n",
    "                            lon=\"lon\",\n",
    "                            hover_name=\"City\",\n",
    "                            hover_data=[\"Score\"],\n",
    "                            size=\"Score\",\n",
    "                            zoom=3, \n",
    "                            height=300,\n",
    "                            size_max=10,\n",
    "                            color_continuous_scale=px.colors.cyclical.IceFire\n",
    "                            )\n",
    "    # \"carto-positron\", \"carto-darkmatter\"\n",
    "    fig.update_layout(mapbox_style=\"carto-darkmatter\")\n",
    "    fig.update_layout(margin={\"r\":0,\"t\":0,\"l\":0,\"b\":0})\n",
    "    fig.show()\n",
    "    fig.write_image(.jpeg\")\n",
    "    \n",
    "plot_trend(\"Modi\")\n"
   ]
  },
  {
   "cell_type": "code",
   "execution_count": null,
   "metadata": {},
   "outputs": [],
   "source": []
  }
 ],
 "metadata": {
  "kernelspec": {
   "display_name": "Python 3",
   "language": "python",
   "name": "python3"
  },
  "language_info": {
   "codemirror_mode": {
    "name": "ipython",
    "version": 3
   },
   "file_extension": ".py",
   "mimetype": "text/x-python",
   "name": "python",
   "nbconvert_exporter": "python",
   "pygments_lexer": "ipython3",
   "version": "3.6.9"
  }
 },
 "nbformat": 4,
 "nbformat_minor": 4
}
