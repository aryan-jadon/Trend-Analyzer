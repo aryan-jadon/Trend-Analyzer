{
 "cells": [
  {
   "cell_type": "code",
   "execution_count": 4,
   "metadata": {},
   "outputs": [
    {
     "name": "stderr",
     "output_type": "stream",
     "text": [
      "/Users/aryanjadon/anaconda3/envs/trend/lib/python3.6/site-packages/ipykernel_launcher.py:39: FutureWarning:\n",
      "\n",
      "Sorting because non-concatenation axis is not aligned. A future version\n",
      "of pandas will change to not sort by default.\n",
      "\n",
      "To accept the future behavior, pass 'sort=False'.\n",
      "\n",
      "To retain the current behavior and silence the warning, pass 'sort=True'.\n",
      "\n",
      "\n",
      "/Users/aryanjadon/anaconda3/envs/trend/lib/python3.6/site-packages/ipykernel_launcher.py:49: SettingWithCopyWarning:\n",
      "\n",
      "\n",
      "A value is trying to be set on a copy of a slice from a DataFrame\n",
      "\n",
      "See the caveats in the documentation: http://pandas.pydata.org/pandas-docs/stable/user_guide/indexing.html#returning-a-view-versus-a-copy\n",
      "\n",
      "/Users/aryanjadon/anaconda3/envs/trend/lib/python3.6/site-packages/ipykernel_launcher.py:52: FutureWarning:\n",
      "\n",
      "`item` has been deprecated and will be removed in a future version\n",
      "\n",
      "/Users/aryanjadon/anaconda3/envs/trend/lib/python3.6/site-packages/ipykernel_launcher.py:53: FutureWarning:\n",
      "\n",
      "`item` has been deprecated and will be removed in a future version\n",
      "\n"
     ]
    },
    {
     "name": "stdout",
     "output_type": "stream",
     "text": [
      "Shreveport LA\n",
      "Quincy IL-Hannibal MO-Keokuk IA\n",
      "Terre Haute IN\n",
      "Terre Haute IN\n",
      "Shreveport LA\n",
      "Washington DC (Hagerstown MD)\n",
      "Quincy IL-Hannibal MO-Keokuk IA\n",
      "Burlington VT-Plattsburgh NY\n",
      "Burlington VT-Plattsburgh NY\n",
      "Wheeling WV-Steubenville OH\n",
      "Shreveport LA\n",
      "Washington DC (Hagerstown MD)\n",
      "Washington DC (Hagerstown MD)\n",
      "Wheeling WV-Steubenville OH\n"
     ]
    },
    {
     "data": {
      "application/vnd.plotly.v1+json": {
       "config": {
        "plotlyServerURL": "https://plot.ly"
       },
       "data": [
        {
         "customdata": [
          [
           92
          ],
          [
           46
          ],
          [
           88
          ],
          [
           100
          ],
          [
           85
          ],
          [
           43
          ],
          [
           61
          ],
          [
           79
          ],
          [
           93
          ],
          [
           100
          ],
          [
           100
          ],
          [
           77
          ],
          [
           30
          ],
          [
           100
          ],
          [
           98
          ],
          [
           90
          ],
          [
           46
          ],
          [
           67
          ],
          [
           100
          ],
          [
           50
          ],
          [
           100
          ],
          [
           66
          ],
          [
           49
          ],
          [
           87
          ],
          [
           82
          ],
          [
           68
          ],
          [
           57
          ],
          [
           100
          ],
          [
           76
          ],
          [
           84
          ],
          [
           81
          ],
          [
           89
          ],
          [
           30
          ],
          [
           88
          ],
          [
           100
          ],
          [
           100
          ],
          [
           100
          ],
          [
           74
          ],
          [
           100
          ],
          [
           82
          ],
          [
           84
          ],
          [
           68
          ],
          [
           96
          ],
          [
           43
          ],
          [
           100
          ],
          [
           89
          ],
          [
           46
          ],
          [
           94
          ],
          [
           77
          ],
          [
           64
          ],
          [
           100
          ],
          [
           48
          ],
          [
           59
          ],
          [
           46
          ],
          [
           88
          ],
          [
           68
          ],
          [
           81
          ],
          [
           62
          ],
          [
           46
          ],
          [
           100
          ],
          [
           99
          ],
          [
           88
          ],
          [
           55
          ],
          [
           100
          ],
          [
           78
          ],
          [
           100
          ],
          [
           49
          ],
          [
           51
          ],
          [
           27
          ],
          [
           72
          ],
          [
           79
          ],
          [
           73
          ],
          [
           100
          ],
          [
           65
          ],
          [
           51
          ],
          [
           81
          ],
          [
           100
          ],
          [
           100
          ],
          [
           85
          ],
          [
           82
          ],
          [
           99
          ],
          [
           49
          ],
          [
           100
          ],
          [
           71
          ],
          [
           58
          ],
          [
           60
          ],
          [
           70
          ],
          [
           74
          ],
          [
           62
          ],
          [
           97
          ],
          [
           83
          ],
          [
           100
          ],
          [
           100
          ],
          [
           52
          ],
          [
           65
          ],
          [
           51
          ],
          [
           91
          ],
          [
           99
          ],
          [
           85
          ],
          [
           100
          ],
          [
           60
          ],
          [
           86
          ],
          [
           80
          ],
          [
           70
          ],
          [
           100
          ],
          [
           67
          ],
          [
           83
          ],
          [
           98
          ],
          [
           90
          ],
          [
           100
          ],
          [
           100
          ],
          [
           100
          ],
          [
           100
          ],
          [
           26
          ],
          [
           99
          ],
          [
           100
          ],
          [
           93
          ],
          [
           87
          ],
          [
           92
          ],
          [
           84
          ],
          [
           94
          ],
          [
           82
          ],
          [
           70
          ],
          [
           99
          ],
          [
           78
          ],
          [
           61
          ],
          [
           91
          ],
          [
           71
          ],
          [
           100
          ],
          [
           60
          ],
          [
           80
          ],
          [
           100
          ],
          [
           86
          ],
          [
           54
          ],
          [
           88
          ],
          [
           77
          ],
          [
           46
          ],
          [
           85
          ],
          [
           93
          ],
          [
           74
          ],
          [
           62
          ],
          [
           58
          ],
          [
           27
          ],
          [
           100
          ],
          [
           97
          ],
          [
           73
          ],
          [
           73
          ],
          [
           100
          ],
          [
           0
          ],
          [
           75
          ],
          [
           94
          ],
          [
           100
          ],
          [
           94
          ],
          [
           86
          ],
          [
           100
          ],
          [
           84
          ],
          [
           100
          ],
          [
           71
          ],
          [
           70
          ],
          [
           79
          ],
          [
           98
          ],
          [
           100
          ],
          [
           2
          ],
          [
           100
          ],
          [
           90
          ],
          [
           100
          ],
          [
           74
          ],
          [
           100
          ],
          [
           75
          ],
          [
           55
          ],
          [
           89
          ],
          [
           100
          ],
          [
           83
          ],
          [
           87
          ],
          [
           100
          ],
          [
           93
          ],
          [
           97
          ],
          [
           93
          ],
          [
           90
          ],
          [
           100
          ],
          [
           63
          ],
          [
           84
          ],
          [
           85
          ],
          [
           61
          ],
          [
           72
          ],
          [
           99
          ],
          [
           95
          ],
          [
           61
          ],
          [
           100
          ],
          [
           52
          ],
          [
           65
          ],
          [
           100
          ],
          [
           83
          ],
          [
           83
          ],
          [
           81
          ],
          [
           79
          ],
          [
           71
          ],
          [
           70
          ],
          [
           68
          ],
          [
           92
          ],
          [
           75
          ],
          [
           100
          ],
          [
           100
          ],
          [
           59
          ],
          [
           98
          ],
          [
           53
          ],
          [
           98
          ],
          [
           99
          ],
          [
           100
          ],
          [
           82
          ],
          [
           87
          ],
          [
           63
          ],
          [
           83
          ],
          [
           87
          ],
          [
           100
          ],
          [
           84
          ],
          [
           88
          ],
          [
           74
          ],
          [
           94
          ],
          [
           96
          ],
          [
           68
          ],
          [
           48
          ],
          [
           100
          ],
          [
           100
          ],
          [
           71
          ],
          [
           63
          ],
          [
           61
          ],
          [
           62
          ],
          [
           100
          ],
          [
           79
          ],
          [
           59
          ],
          [
           96
          ],
          [
           91
          ],
          [
           46
          ],
          [
           100
          ],
          [
           60
          ],
          [
           94
          ],
          [
           75
          ],
          [
           100
          ],
          [
           67
          ],
          [
           68
          ],
          [
           90
          ],
          [
           55
          ],
          [
           52
          ],
          [
           82
          ],
          [
           65
          ],
          [
           74
          ],
          [
           74
          ],
          [
           75
          ],
          [
           87
          ],
          [
           59
          ],
          [
           64
          ],
          [
           74
          ],
          [
           68
          ],
          [
           53
          ],
          [
           74
          ],
          [
           100
          ],
          [
           95
          ],
          [
           72
          ],
          [
           78
          ],
          [
           88
          ],
          [
           60
          ],
          [
           87
          ],
          [
           100
          ],
          [
           55
          ],
          [
           63
          ],
          [
           74
          ],
          [
           52
          ],
          [
           100
          ],
          [
           95
          ],
          [
           71
          ],
          [
           78
          ],
          [
           100
          ],
          [
           91
          ],
          [
           99
          ],
          [
           94
          ],
          [
           100
          ],
          [
           100
          ],
          [
           73
          ],
          [
           100
          ],
          [
           86
          ],
          [
           100
          ],
          [
           88
          ],
          [
           100
          ],
          [
           2
          ]
         ],
         "hoverlabel": {
          "namelength": 0
         },
         "hovertemplate": "<b>%{hovertext}</b><br><br>Score=%{customdata[0]}<br>lat=%{lat}<br>lon=%{lon}",
         "hovertext": [
          "Birmingham AL",
          "Columbus GA",
          "Dothan AL",
          "Huntsville-Decatur (Florence) AL",
          "Meridian MS",
          "Mobile AL-Pensacola (Ft. Walton Beach) FL",
          "Montgomery (Selma) AL",
          "Anchorage AK",
          "Fairbanks AK",
          "Juneau AK",
          "Phoenix AZ",
          "Tucson (Sierra Vista) AZ",
          "Yuma AZ-El Centro CA",
          "Ft. Smith-Fayetteville-Springdale-Rogers AR",
          "Jonesboro AR",
          "Little Rock-Pine Bluff AR",
          "Memphis TN",
          "Monroe LA-El Dorado AR",
          "Springfield MO",
          "Bakersfield CA",
          "Chico-Redding CA",
          "Eureka CA",
          "Fresno-Visalia CA",
          "Los Angeles CA",
          "Medford-Klamath Falls OR",
          "Monterey-Salinas CA",
          "Palm Springs CA",
          "Reno NV",
          "Sacramento-Stockton-Modesto CA",
          "San Diego CA",
          "San Francisco-Oakland-San Jose CA",
          "Santa Barbara-Santa Maria-San Luis Obispo CA",
          "Yuma AZ-El Centro CA",
          "Colorado Springs-Pueblo CO",
          "Denver CO",
          "Grand Junction-Montrose CO",
          "Hartford & New Haven CT",
          "Philadelphia PA",
          "Salisbury MD",
          "Ft. Myers-Naples FL",
          "Gainesville FL",
          "Jacksonville FL",
          "Miami-Ft. Lauderdale FL",
          "Mobile AL-Pensacola (Ft. Walton Beach) FL",
          "Orlando-Daytona Beach-Melbourne FL",
          "Panama City FL",
          "Tallahassee FL-Thomasville GA",
          "Tampa-St. Petersburg (Sarasota) FL",
          "West Palm Beach-Ft. Pierce FL",
          "Albany GA",
          "Atlanta GA",
          "Augusta GA",
          "Chattanooga TN",
          "Columbus GA",
          "Dothan AL",
          "Jacksonville FL",
          "Macon GA",
          "Savannah GA",
          "Tallahassee FL-Thomasville GA",
          "Honolulu HI",
          "Boise ID",
          "Idaho Falls-Pocatello ID",
          "Spokane WA",
          "Twin Falls ID",
          "Champaign & Springfield-Decatur IL",
          "Chicago IL",
          "Davenport IA-Rock Island-Moline IL",
          "Evansville IN",
          "Paducah KY-Cape Girardeau MO-Harrisburg-Mount Vernon IL",
          "Peoria-Bloomington IL",
          "Rockford IL",
          "St. Louis MO",
          "Chicago IL",
          "Cincinnati OH",
          "Evansville IN",
          "Ft. Wayne IN",
          "Indianapolis IN",
          "Lafayette IN",
          "Louisville KY",
          "South Bend-Elkhart IN",
          "Cedar Rapids-Waterloo-Iowa City & Dubuque IA",
          "Davenport IA-Rock Island-Moline IL",
          "Des Moines-Ames IA",
          "Omaha NE",
          "Ottumwa IA-Kirksville MO",
          "Rochester MN-Mason City IA-Austin MN",
          "Sioux City IA",
          "Joplin MO-Pittsburg KS",
          "Kansas City MO",
          "St. Joseph MO",
          "Topeka KS",
          "Wichita-Hutchinson KS",
          "Bowling Green KY",
          "Charleston-Huntington WV",
          "Cincinnati OH",
          "Evansville IN",
          "Knoxville TN",
          "Lexington KY",
          "Louisville KY",
          "Nashville TN",
          "Tri-Cities TN-VA",
          "Alexandria LA",
          "Baton Rouge LA",
          "Lafayette LA",
          "Lake Charles LA",
          "Monroe LA-El Dorado AR",
          "New Orleans LA",
          "Bangor ME",
          "Portland-Auburn ME",
          "Presque Isle ME",
          "Baltimore MD",
          "Salisbury MD",
          "Boston MA-Manchester NH",
          "Providence RI-New Bedford MA",
          "Springfield-Holyoke MA",
          "Alpena MI",
          "Detroit MI",
          "Flint-Saginaw-Bay City MI",
          "Grand Rapids-Kalamazoo-Battle Creek MI",
          "Lansing MI",
          "Marquette MI",
          "South Bend-Elkhart IN",
          "Toledo OH",
          "Traverse City-Cadillac MI",
          "Duluth MN-Superior WI",
          "Fargo-Valley City ND",
          "La Crosse-Eau Claire WI",
          "Mankato MN",
          "Minneapolis-St. Paul MN",
          "Rochester MN-Mason City IA-Austin MN",
          "Baton Rouge LA",
          "Biloxi-Gulfport MS",
          "Columbus-Tupelo-West Point MS",
          "Greenwood-Greenville MS",
          "Hattiesburg-Laurel MS",
          "Jackson MS",
          "Memphis TN",
          "Meridian MS",
          "Columbia-Jefferson City MO",
          "Joplin MO-Pittsburg KS",
          "Kansas City MO",
          "Ottumwa IA-Kirksville MO",
          "Paducah KY-Cape Girardeau MO-Harrisburg-Mount Vernon IL",
          "Springfield MO",
          "St. Joseph MO",
          "St. Louis MO",
          "Billings, MT",
          "Butte-Bozeman MT",
          "Glendive MT",
          "Great Falls MT",
          "Helena MT",
          "Minot-Bismarck-Dickinson(Williston) ND",
          "Missoula MT",
          "Cheyenne WY-Scottsbluff NE",
          "Denver CO",
          "Lincoln & Hastings-Kearney NE",
          "North Platte NE",
          "Omaha NE",
          "Sioux City IA",
          "Sioux Falls(Mitchell) SD",
          "Las Vegas NV",
          "Reno NV",
          "Salt Lake City UT",
          "Boston MA-Manchester NH",
          "Portland-Auburn ME",
          "New York NY",
          "Philadelphia PA",
          "Albuquerque-Santa Fe NM",
          "Amarillo TX",
          "El Paso TX",
          "Albany-Schenectady-Troy NY",
          "Binghamton NY",
          "Buffalo NY",
          "Elmira NY",
          "New York NY",
          "Rochester NY",
          "Syracuse NY",
          "Utica NY",
          "Watertown NY",
          "Charlotte NC",
          "Florence-Myrtle Beach SC",
          "Greensboro-High Point-Winston Salem NC",
          "Greenville-New Bern-Washington NC",
          "Greenville-Spartanburg SC-Asheville NC-Anderson SC",
          "Norfolk-Portsmouth-Newport News VA",
          "Raleigh-Durham (Fayetteville) NC",
          "Wilmington NC",
          "Fargo-Valley City ND",
          "Minot-Bismarck-Dickinson(Williston) ND",
          "Charleston-Huntington WV",
          "Cincinnati OH",
          "Cleveland-Akron (Canton) OH",
          "Columbus OH",
          "Dayton OH",
          "Ft. Wayne IN",
          "Lima OH",
          "Parkersburg WV",
          "Toledo OH",
          "Youngstown OH",
          "Zanesville OH",
          "Amarillo TX",
          "Ft. Smith-Fayetteville-Springdale-Rogers AR",
          "Oklahoma City OK",
          "Sherman TX-Ada OK",
          "Tulsa OK",
          "Wichita Falls TX & Lawton OK",
          "Bend OR",
          "Boise ID",
          "Eugene OR",
          "Medford-Klamath Falls OR",
          "Portland OR",
          "Yakima-Pasco-Richland-Kennewick WA",
          "Buffalo NY",
          "Elmira NY",
          "Erie PA",
          "Harrisburg-Lancaster-Lebanon-York PA",
          "Johnstown-Altoona PA",
          "Philadelphia PA",
          "Pittsburgh PA",
          "Wilkes Barre-Scranton PA",
          "Youngstown OH",
          "Augusta GA",
          "Charleston SC",
          "Charlotte NC",
          "Columbia SC",
          "Florence-Myrtle Beach SC",
          "Greenville-Spartanburg SC-Asheville NC-Anderson SC",
          "Savannah GA",
          "Rapid City SD",
          "Sioux Falls(Mitchell) SD",
          "Chattanooga TN",
          "Jackson TN",
          "Knoxville TN",
          "Memphis TN",
          "Nashville TN",
          "Tri-Cities TN-VA",
          "Abilene-Sweetwater TX",
          "Amarillo TX",
          "Austin TX",
          "Beaumont-Port Arthur TX",
          "Corpus Christi TX",
          "Dallas-Ft. Worth TX",
          "El Paso TX",
          "Harlingen-Weslaco-Brownsville-McAllen TX",
          "Houston TX",
          "Laredo TX",
          "Lubbock TX",
          "Odessa-Midland TX",
          "San Angelo TX",
          "San Antonio TX",
          "Sherman TX-Ada OK",
          "Tyler-Longview(Lufkin & Nacogdoches) TX",
          "Victoria TX",
          "Waco-Temple-Bryan TX",
          "Wichita Falls TX & Lawton OK",
          "Bluefield-Beckley-Oak Hill WV",
          "Charlottesville VA",
          "Harrisonburg VA",
          "Norfolk-Portsmouth-Newport News VA",
          "Richmond-Petersburg VA",
          "Roanoke-Lynchburg VA",
          "Tri-Cities TN-VA",
          "Portland OR",
          "Seattle-Tacoma WA",
          "Spokane WA",
          "Yakima-Pasco-Richland-Kennewick WA",
          "Bluefield-Beckley-Oak Hill WV",
          "Charleston-Huntington WV",
          "Clarksburg-Weston WV",
          "Harrisonburg VA",
          "Parkersburg WV",
          "Duluth MN-Superior WI",
          "Green Bay-Appleton WI",
          "La Crosse-Eau Claire WI",
          "Madison WI",
          "Milwaukee WI",
          "Minneapolis-St. Paul MN",
          "Wausau-Rhinelander WI",
          "Billings, MT",
          "Casper-Riverton WY",
          "Cheyenne WY-Scottsbluff NE",
          "Denver CO",
          "Idaho Falls-Pocatello ID",
          "Rapid City SD",
          "Salt Lake City UT"
         ],
         "lat": [
          33.570499,
          43.1830762,
          31.2237434,
          33.561968,
          39.695040500000005,
          28.06365535,
          32.412397999999996,
          61.2163129,
          64.837845,
          58.30194960000001,
          33.448586600000006,
          32.25346,
          32.665135,
          35.3872218,
          35.8428646,
          34.7464809,
          35.1490215,
          33.215303999999996,
          37.2166779,
          35.3738712,
          39.757187200000004,
          45.498527100000004,
          36.756176200000006,
          34.0536909,
          42.326418100000005,
          36.6744117,
          33.8246269,
          39.529270000000004,
          38.5815719,
          32.7174209,
          45.4149778,
          45.536193299999994,
          32.665135,
          38.8339578,
          39.7348381,
          39.063956,
          41.763709999999996,
          39.9527237,
          38.3662114,
          26.325796899999997,
          29.67357765,
          30.3321838,
          26.0917308,
          28.06365535,
          28.5479786,
          30.1600827,
          30.533356199999997,
          27.951849100000004,
          26.7153425,
          51.519091700000004,
          33.749098700000005,
          33.470971399999996,
          35.0457219,
          43.1830762,
          31.2237434,
          30.3321838,
          32.8406946,
          43.4129206,
          30.533356199999997,
          21.304547,
          43.6166163,
          43.4935245,
          47.6579425,
          42.5704219,
          40.1125774,
          41.875561600000005,
          41.5236436,
          4.5777639,
          37.0833893,
          40.490697999999995,
          42.2713945,
          38.6268039,
          41.875561600000005,
          39.1014537,
          4.5777639,
          41.0799898,
          39.7683331,
          40.4167022,
          38.254237599999996,
          41.68338129999999,
          41.9758872,
          41.5236436,
          41.8090275,
          41.258745899999994,
          41.0135903,
          44.02343870000001,
          42.4966815,
          37.084179999999996,
          39.100105,
          39.7686055,
          39.049011,
          35.636801,
          36.990319899999996,
          38.4121014,
          39.1014537,
          4.5777639,
          35.960394799999996,
          38.0464066,
          38.254237599999996,
          36.1622296,
          46.2306739,
          31.199004,
          30.445959600000002,
          30.2240897,
          30.226594899999995,
          33.215303999999996,
          29.949932300000004,
          29.0659229,
          44.0978509,
          46.681478999999996,
          39.2908816,
          38.3662114,
          42.273947,
          41.8239891,
          42.2417576,
          45.01761810000001,
          42.331550899999996,
          43.0171773,
          42.91424129999999,
          42.73377120000001,
          46.4481521,
          41.68338129999999,
          41.678675399999996,
          44.275838799999995,
          46.7599265,
          46.876138,
          43.8014053,
          44.163466299999996,
          44.9772995,
          44.02343870000001,
          30.445959600000002,
          30.40711375,
          43.336572499999996,
          39.59493885,
          31.327118900000002,
          45.44924535,
          35.1490215,
          39.695040500000005,
          38.951883,
          37.084179999999996,
          39.100105,
          41.0135903,
          37.0833893,
          37.2166779,
          39.7686055,
          38.6268039,
          45.78749570000001,
          45.421399,
          47.105290000000004,
          47.5048851,
          46.592712,
          48.23251,
          46.8700801,
          34.1712252,
          39.7348381,
          40.56902635,
          41.1238873,
          41.258745899999994,
          42.4966815,
          43.536388,
          36.1662859,
          39.529270000000004,
          40.7670126,
          42.273947,
          44.0978509,
          40.7127281,
          39.9527237,
          35.0841034,
          35.2072185,
          31.760037199999996,
          42.7373,
          42.096968,
          42.8867166,
          42.089796500000006,
          40.7127281,
          43.157284999999995,
          43.0481221,
          43.100903100000004,
          43.9747838,
          35.2270869,
          41.204010100000005,
          36.0726355,
          35.612660999999996,
          34.851354,
          36.846292299999995,
          35.7803977,
          34.2257282,
          46.876138,
          48.23251,
          38.4121014,
          39.1014537,
          41.2278419,
          39.9622601,
          39.758947799999994,
          41.0799898,
          40.7399785,
          39.2699565,
          41.678675399999996,
          41.1035786,
          39.9403453,
          35.2072185,
          35.3872218,
          35.4729886,
          36.5012047,
          36.1556805,
          33.930828000000005,
          44.058172799999994,
          43.6166163,
          44.0505054,
          42.326418100000005,
          45.5202471,
          46.2591683,
          42.8867166,
          42.089796500000006,
          42.129471200000005,
          40.266310700000005,
          40.3267407,
          39.9527237,
          40.4416941,
          41.2464824,
          41.1035786,
          33.470971399999996,
          32.7876012,
          35.2270869,
          34.000749299999995,
          41.204010100000005,
          34.851354,
          43.4129206,
          44.081176,
          43.536388,
          35.0457219,
          35.6144446,
          35.960394799999996,
          35.1490215,
          36.1622296,
          46.2306739,
          32.44645,
          35.2072185,
          30.2711286,
          29.948825,
          27.8002542,
          32.759907500000004,
          31.760037199999996,
          26.1908241,
          29.7589382,
          27.519984100000002,
          33.5778631,
          31.906186699999996,
          31.464835700000002,
          29.424600199999997,
          36.5012047,
          32.351260100000005,
          28.802644300000004,
          30.681537,
          33.930828000000005,
          37.2698395,
          38.029306,
          38.4493315,
          36.846292299999995,
          17.985284600000004,
          37.273821500000004,
          46.2306739,
          45.5202471,
          47.447567299999996,
          47.6579425,
          46.2591683,
          37.2698395,
          38.4121014,
          39.2806451,
          38.4493315,
          39.2699565,
          46.7599265,
          51.666286799999995,
          43.8014053,
          43.074760999999995,
          43.0349931,
          44.9772995,
          44.95960170000001,
          45.78749570000001,
          33.9392689,
          34.1712252,
          39.7348381,
          43.4935245,
          44.081176,
          40.7670126
         ],
         "legendgroup": "",
         "lon": [
          -86.765783,
          -79.8147518,
          -85.39339059999999,
          -86.79881400000001,
          -89.1217469,
          -80.62182115,
          -87.032556,
          -149.8948523,
          -147.716675,
          -134.419734,
          -112.0773456,
          -110.91178899999998,
          -114.47603159999998,
          -94.4248983,
          -90.7034522,
          -92.2895948,
          -90.0516285,
          -92.638577,
          -93.2920373,
          -119.01946389999999,
          -121.8301977,
          -62.6816736,
          -119.4751227,
          -118.2427666,
          -122.8718605,
          -121.6550372,
          -116.54030300000001,
          -119.8136744,
          -121.49439960000001,
          -117.16277140000001,
          -72.74939599999999,
          -73.6077401,
          -114.47603159999998,
          -104.8253485,
          -104.9653271,
          -108.5507317,
          -72.685097,
          -75.16352619999999,
          -75.60088809999999,
          -81.7766479,
          -82.3233746,
          -81.655651,
          -80.13593979999999,
          -80.62182115,
          -81.41278419,
          -85.6545729,
          -84.2328667,
          -82.45639720000001,
          -80.0533746,
          -2.546169,
          -84.39018490000001,
          -81.9748429,
          -85.3094883,
          -79.8147518,
          -85.39339059999999,
          -81.655651,
          -83.6324022,
          -79.70282759999999,
          -84.2328667,
          -157.8556764,
          -116.20088600000001,
          -112.0400919,
          -117.42122649999999,
          -114.46031709999998,
          -88.2429781,
          -87.6244212,
          -90.57763680000001,
          -7.647248599999999,
          -88.6000478,
          -89.061913,
          -89.09396600000001,
          -90.1994097,
          -87.6244212,
          -84.5124602,
          -7.647248599999999,
          -85.13860150000001,
          -86.1583502,
          -86.8752869,
          -85.759407,
          -86.2500066,
          -91.6704053,
          -90.57763680000001,
          -93.6149176,
          -95.93837579999999,
          -92.41492990000002,
          -92.46301820000001,
          -96.4058782,
          -94.51323000000001,
          -94.5781416,
          -94.8466322,
          -95.67755600000001,
          -101.62249200000001,
          -86.4436018,
          -82.42871679999999,
          -84.5124602,
          -7.647248599999999,
          -83.92102609999999,
          -84.4970393,
          -85.759407,
          -86.7743531,
          -119.09210060000001,
          29.894378000000003,
          -91.18738,
          -92.0198427,
          -93.21737590000001,
          -92.638577,
          -90.0701156,
          -110.97133000000001,
          -70.2311655,
          -68.016357,
          -76.610759,
          -75.60088809999999,
          -71.076741,
          -71.4128343,
          -72.64786840000001,
          -83.6670019,
          -83.04664029999999,
          -83.7236024,
          -85.533004,
          -84.5553805,
          -87.6305899,
          -86.2500066,
          -83.51272829999999,
          -85.71367459999999,
          -92.1340655,
          -96.88384640000001,
          -91.2395429,
          -93.9993505,
          -93.2654692,
          -92.46301820000001,
          -91.18738,
          -89.07143302,
          -89.01936009999999,
          -86.12237862,
          -89.2903392,
          -122.7154051,
          -90.0516285,
          -89.1217469,
          -92.3337366,
          -94.51323000000001,
          -94.5781416,
          -92.41492990000002,
          -88.6000478,
          -93.2920373,
          -94.8466322,
          -90.1994097,
          -108.49606999999999,
          -111.06981100000002,
          -104.71246,
          -111.2918908,
          -112.03610900000001,
          -101.296273,
          -113.99527959999999,
          -118.8433527,
          -104.9653271,
          -98.39126256,
          -100.7654232,
          -95.93837579999999,
          -96.4058782,
          -96.731667,
          -115.149225,
          -119.8136744,
          -111.89043079999999,
          -71.076741,
          -70.2311655,
          -74.0060152,
          -75.16352619999999,
          -106.6509851,
          -101.83382459999999,
          -106.48728700000001,
          -73.724799,
          -75.91434100000001,
          -78.87839220000001,
          -76.8077338,
          -74.0060152,
          -77.615214,
          -76.1474244,
          -75.2326641,
          -75.91075649999999,
          -80.8431268,
          -73.0970039,
          -79.79197540000001,
          -77.3663538,
          -82.3984882,
          -76.2929252,
          -78.63909890000001,
          -77.9447107,
          -96.88384640000001,
          -101.296273,
          -82.42871679999999,
          -84.5124602,
          -81.4910108,
          -83.00070649999999,
          -84.1916069,
          -85.13860150000001,
          -84.105006,
          -81.5506916,
          -83.51272829999999,
          -80.6520161,
          -82.01319240000001,
          -101.83382459999999,
          -94.4248983,
          -97.5170536,
          -101.7637194,
          -95.9929113,
          -98.484879,
          -121.31530959999999,
          -116.20088600000001,
          -123.09505060000001,
          -122.8718605,
          -122.6741949,
          -119.29044009999998,
          -78.87839220000001,
          -76.8077338,
          -80.0852695,
          -76.8861122,
          -78.9219698,
          -75.16352619999999,
          -79.99008609999998,
          -75.8817316,
          -80.6520161,
          -81.9748429,
          -79.9402728,
          -80.8431268,
          -81.03433129999999,
          -73.0970039,
          -82.3984882,
          -79.70282759999999,
          -103.22800600000001,
          -96.731667,
          -85.3094883,
          -88.8177418,
          -83.92102609999999,
          -90.0516285,
          -86.7743531,
          -119.09210060000001,
          -99.7475905,
          -101.83382459999999,
          -97.7436995,
          -93.980509,
          -97.3955744,
          -97.1735626,
          -106.48728700000001,
          -97.69597940000001,
          -95.36769740000001,
          -99.49537640000001,
          -101.85516650000001,
          -102.2839569,
          -100.43984420000001,
          -98.4951405,
          -101.7637194,
          -95.3010624,
          -96.9766308,
          -96.35646650000001,
          -98.484879,
          -81.2223195,
          -78.4766781,
          -78.8688833,
          -76.2929252,
          -76.58718470000001,
          -79.96020215,
          -119.09210060000001,
          -122.6741949,
          -122.3080159,
          -117.42122649999999,
          -119.29044009999998,
          -81.2223195,
          -82.42871679999999,
          -80.34453409999999,
          -78.8688833,
          -81.5506916,
          -92.1340655,
          -1.3428908000000002,
          -91.2395429,
          -89.3837613,
          -87.92249699999999,
          -93.2654692,
          -89.6298239,
          -108.49606999999999,
          -83.65261240000001,
          -118.8433527,
          -104.9653271,
          -112.0400919,
          -103.22800600000001,
          -111.89043079999999
         ],
         "marker": {
          "color": "#636efa",
          "size": [
           92,
           46,
           88,
           100,
           85,
           43,
           61,
           79,
           93,
           100,
           100,
           77,
           30,
           100,
           98,
           90,
           46,
           67,
           100,
           50,
           100,
           66,
           49,
           87,
           82,
           68,
           57,
           100,
           76,
           84,
           81,
           89,
           30,
           88,
           100,
           100,
           100,
           74,
           100,
           82,
           84,
           68,
           96,
           43,
           100,
           89,
           46,
           94,
           77,
           64,
           100,
           48,
           59,
           46,
           88,
           68,
           81,
           62,
           46,
           100,
           99,
           88,
           55,
           100,
           78,
           100,
           49,
           51,
           27,
           72,
           79,
           73,
           100,
           65,
           51,
           81,
           100,
           100,
           85,
           82,
           99,
           49,
           100,
           71,
           58,
           60,
           70,
           74,
           62,
           97,
           83,
           100,
           100,
           52,
           65,
           51,
           91,
           99,
           85,
           100,
           60,
           86,
           80,
           70,
           100,
           67,
           83,
           98,
           90,
           100,
           100,
           100,
           100,
           26,
           99,
           100,
           93,
           87,
           92,
           84,
           94,
           82,
           70,
           99,
           78,
           61,
           91,
           71,
           100,
           60,
           80,
           100,
           86,
           54,
           88,
           77,
           46,
           85,
           93,
           74,
           62,
           58,
           27,
           100,
           97,
           73,
           73,
           100,
           0,
           75,
           94,
           100,
           94,
           86,
           100,
           84,
           100,
           71,
           70,
           79,
           98,
           100,
           2,
           100,
           90,
           100,
           74,
           100,
           75,
           55,
           89,
           100,
           83,
           87,
           100,
           93,
           97,
           93,
           90,
           100,
           63,
           84,
           85,
           61,
           72,
           99,
           95,
           61,
           100,
           52,
           65,
           100,
           83,
           83,
           81,
           79,
           71,
           70,
           68,
           92,
           75,
           100,
           100,
           59,
           98,
           53,
           98,
           99,
           100,
           82,
           87,
           63,
           83,
           87,
           100,
           84,
           88,
           74,
           94,
           96,
           68,
           48,
           100,
           100,
           71,
           63,
           61,
           62,
           100,
           79,
           59,
           96,
           91,
           46,
           100,
           60,
           94,
           75,
           100,
           67,
           68,
           90,
           55,
           52,
           82,
           65,
           74,
           74,
           75,
           87,
           59,
           64,
           74,
           68,
           53,
           74,
           100,
           95,
           72,
           78,
           88,
           60,
           87,
           100,
           55,
           63,
           74,
           52,
           100,
           95,
           71,
           78,
           100,
           91,
           99,
           94,
           100,
           100,
           73,
           100,
           86,
           100,
           88,
           100,
           2
          ],
          "sizemode": "area",
          "sizeref": 1
         },
         "mode": "markers",
         "name": "",
         "showlegend": false,
         "subplot": "mapbox",
         "type": "scattermapbox"
        }
       ],
       "layout": {
        "height": 300,
        "legend": {
         "itemsizing": "constant",
         "tracegroupgap": 0
        },
        "mapbox": {
         "center": {
          "lat": 38.43315610789474,
          "lon": -91.03791632645614
         },
         "domain": {
          "x": [
           0,
           1
          ],
          "y": [
           0,
           1
          ]
         },
         "style": "carto-darkmatter",
         "zoom": 3
        },
        "margin": {
         "b": 0,
         "l": 0,
         "r": 0,
         "t": 0
        },
        "template": {
         "data": {
          "bar": [
           {
            "error_x": {
             "color": "#2a3f5f"
            },
            "error_y": {
             "color": "#2a3f5f"
            },
            "marker": {
             "line": {
              "color": "#E5ECF6",
              "width": 0.5
             }
            },
            "type": "bar"
           }
          ],
          "barpolar": [
           {
            "marker": {
             "line": {
              "color": "#E5ECF6",
              "width": 0.5
             }
            },
            "type": "barpolar"
           }
          ],
          "carpet": [
           {
            "aaxis": {
             "endlinecolor": "#2a3f5f",
             "gridcolor": "white",
             "linecolor": "white",
             "minorgridcolor": "white",
             "startlinecolor": "#2a3f5f"
            },
            "baxis": {
             "endlinecolor": "#2a3f5f",
             "gridcolor": "white",
             "linecolor": "white",
             "minorgridcolor": "white",
             "startlinecolor": "#2a3f5f"
            },
            "type": "carpet"
           }
          ],
          "choropleth": [
           {
            "colorbar": {
             "outlinewidth": 0,
             "ticks": ""
            },
            "type": "choropleth"
           }
          ],
          "contour": [
           {
            "colorbar": {
             "outlinewidth": 0,
             "ticks": ""
            },
            "colorscale": [
             [
              0,
              "#0d0887"
             ],
             [
              0.1111111111111111,
              "#46039f"
             ],
             [
              0.2222222222222222,
              "#7201a8"
             ],
             [
              0.3333333333333333,
              "#9c179e"
             ],
             [
              0.4444444444444444,
              "#bd3786"
             ],
             [
              0.5555555555555556,
              "#d8576b"
             ],
             [
              0.6666666666666666,
              "#ed7953"
             ],
             [
              0.7777777777777778,
              "#fb9f3a"
             ],
             [
              0.8888888888888888,
              "#fdca26"
             ],
             [
              1,
              "#f0f921"
             ]
            ],
            "type": "contour"
           }
          ],
          "contourcarpet": [
           {
            "colorbar": {
             "outlinewidth": 0,
             "ticks": ""
            },
            "type": "contourcarpet"
           }
          ],
          "heatmap": [
           {
            "colorbar": {
             "outlinewidth": 0,
             "ticks": ""
            },
            "colorscale": [
             [
              0,
              "#0d0887"
             ],
             [
              0.1111111111111111,
              "#46039f"
             ],
             [
              0.2222222222222222,
              "#7201a8"
             ],
             [
              0.3333333333333333,
              "#9c179e"
             ],
             [
              0.4444444444444444,
              "#bd3786"
             ],
             [
              0.5555555555555556,
              "#d8576b"
             ],
             [
              0.6666666666666666,
              "#ed7953"
             ],
             [
              0.7777777777777778,
              "#fb9f3a"
             ],
             [
              0.8888888888888888,
              "#fdca26"
             ],
             [
              1,
              "#f0f921"
             ]
            ],
            "type": "heatmap"
           }
          ],
          "heatmapgl": [
           {
            "colorbar": {
             "outlinewidth": 0,
             "ticks": ""
            },
            "colorscale": [
             [
              0,
              "#0d0887"
             ],
             [
              0.1111111111111111,
              "#46039f"
             ],
             [
              0.2222222222222222,
              "#7201a8"
             ],
             [
              0.3333333333333333,
              "#9c179e"
             ],
             [
              0.4444444444444444,
              "#bd3786"
             ],
             [
              0.5555555555555556,
              "#d8576b"
             ],
             [
              0.6666666666666666,
              "#ed7953"
             ],
             [
              0.7777777777777778,
              "#fb9f3a"
             ],
             [
              0.8888888888888888,
              "#fdca26"
             ],
             [
              1,
              "#f0f921"
             ]
            ],
            "type": "heatmapgl"
           }
          ],
          "histogram": [
           {
            "marker": {
             "colorbar": {
              "outlinewidth": 0,
              "ticks": ""
             }
            },
            "type": "histogram"
           }
          ],
          "histogram2d": [
           {
            "colorbar": {
             "outlinewidth": 0,
             "ticks": ""
            },
            "colorscale": [
             [
              0,
              "#0d0887"
             ],
             [
              0.1111111111111111,
              "#46039f"
             ],
             [
              0.2222222222222222,
              "#7201a8"
             ],
             [
              0.3333333333333333,
              "#9c179e"
             ],
             [
              0.4444444444444444,
              "#bd3786"
             ],
             [
              0.5555555555555556,
              "#d8576b"
             ],
             [
              0.6666666666666666,
              "#ed7953"
             ],
             [
              0.7777777777777778,
              "#fb9f3a"
             ],
             [
              0.8888888888888888,
              "#fdca26"
             ],
             [
              1,
              "#f0f921"
             ]
            ],
            "type": "histogram2d"
           }
          ],
          "histogram2dcontour": [
           {
            "colorbar": {
             "outlinewidth": 0,
             "ticks": ""
            },
            "colorscale": [
             [
              0,
              "#0d0887"
             ],
             [
              0.1111111111111111,
              "#46039f"
             ],
             [
              0.2222222222222222,
              "#7201a8"
             ],
             [
              0.3333333333333333,
              "#9c179e"
             ],
             [
              0.4444444444444444,
              "#bd3786"
             ],
             [
              0.5555555555555556,
              "#d8576b"
             ],
             [
              0.6666666666666666,
              "#ed7953"
             ],
             [
              0.7777777777777778,
              "#fb9f3a"
             ],
             [
              0.8888888888888888,
              "#fdca26"
             ],
             [
              1,
              "#f0f921"
             ]
            ],
            "type": "histogram2dcontour"
           }
          ],
          "mesh3d": [
           {
            "colorbar": {
             "outlinewidth": 0,
             "ticks": ""
            },
            "type": "mesh3d"
           }
          ],
          "parcoords": [
           {
            "line": {
             "colorbar": {
              "outlinewidth": 0,
              "ticks": ""
             }
            },
            "type": "parcoords"
           }
          ],
          "pie": [
           {
            "automargin": true,
            "type": "pie"
           }
          ],
          "scatter": [
           {
            "marker": {
             "colorbar": {
              "outlinewidth": 0,
              "ticks": ""
             }
            },
            "type": "scatter"
           }
          ],
          "scatter3d": [
           {
            "line": {
             "colorbar": {
              "outlinewidth": 0,
              "ticks": ""
             }
            },
            "marker": {
             "colorbar": {
              "outlinewidth": 0,
              "ticks": ""
             }
            },
            "type": "scatter3d"
           }
          ],
          "scattercarpet": [
           {
            "marker": {
             "colorbar": {
              "outlinewidth": 0,
              "ticks": ""
             }
            },
            "type": "scattercarpet"
           }
          ],
          "scattergeo": [
           {
            "marker": {
             "colorbar": {
              "outlinewidth": 0,
              "ticks": ""
             }
            },
            "type": "scattergeo"
           }
          ],
          "scattergl": [
           {
            "marker": {
             "colorbar": {
              "outlinewidth": 0,
              "ticks": ""
             }
            },
            "type": "scattergl"
           }
          ],
          "scattermapbox": [
           {
            "marker": {
             "colorbar": {
              "outlinewidth": 0,
              "ticks": ""
             }
            },
            "type": "scattermapbox"
           }
          ],
          "scatterpolar": [
           {
            "marker": {
             "colorbar": {
              "outlinewidth": 0,
              "ticks": ""
             }
            },
            "type": "scatterpolar"
           }
          ],
          "scatterpolargl": [
           {
            "marker": {
             "colorbar": {
              "outlinewidth": 0,
              "ticks": ""
             }
            },
            "type": "scatterpolargl"
           }
          ],
          "scatterternary": [
           {
            "marker": {
             "colorbar": {
              "outlinewidth": 0,
              "ticks": ""
             }
            },
            "type": "scatterternary"
           }
          ],
          "surface": [
           {
            "colorbar": {
             "outlinewidth": 0,
             "ticks": ""
            },
            "colorscale": [
             [
              0,
              "#0d0887"
             ],
             [
              0.1111111111111111,
              "#46039f"
             ],
             [
              0.2222222222222222,
              "#7201a8"
             ],
             [
              0.3333333333333333,
              "#9c179e"
             ],
             [
              0.4444444444444444,
              "#bd3786"
             ],
             [
              0.5555555555555556,
              "#d8576b"
             ],
             [
              0.6666666666666666,
              "#ed7953"
             ],
             [
              0.7777777777777778,
              "#fb9f3a"
             ],
             [
              0.8888888888888888,
              "#fdca26"
             ],
             [
              1,
              "#f0f921"
             ]
            ],
            "type": "surface"
           }
          ],
          "table": [
           {
            "cells": {
             "fill": {
              "color": "#EBF0F8"
             },
             "line": {
              "color": "white"
             }
            },
            "header": {
             "fill": {
              "color": "#C8D4E3"
             },
             "line": {
              "color": "white"
             }
            },
            "type": "table"
           }
          ]
         },
         "layout": {
          "annotationdefaults": {
           "arrowcolor": "#2a3f5f",
           "arrowhead": 0,
           "arrowwidth": 1
          },
          "coloraxis": {
           "colorbar": {
            "outlinewidth": 0,
            "ticks": ""
           }
          },
          "colorscale": {
           "diverging": [
            [
             0,
             "#8e0152"
            ],
            [
             0.1,
             "#c51b7d"
            ],
            [
             0.2,
             "#de77ae"
            ],
            [
             0.3,
             "#f1b6da"
            ],
            [
             0.4,
             "#fde0ef"
            ],
            [
             0.5,
             "#f7f7f7"
            ],
            [
             0.6,
             "#e6f5d0"
            ],
            [
             0.7,
             "#b8e186"
            ],
            [
             0.8,
             "#7fbc41"
            ],
            [
             0.9,
             "#4d9221"
            ],
            [
             1,
             "#276419"
            ]
           ],
           "sequential": [
            [
             0,
             "#0d0887"
            ],
            [
             0.1111111111111111,
             "#46039f"
            ],
            [
             0.2222222222222222,
             "#7201a8"
            ],
            [
             0.3333333333333333,
             "#9c179e"
            ],
            [
             0.4444444444444444,
             "#bd3786"
            ],
            [
             0.5555555555555556,
             "#d8576b"
            ],
            [
             0.6666666666666666,
             "#ed7953"
            ],
            [
             0.7777777777777778,
             "#fb9f3a"
            ],
            [
             0.8888888888888888,
             "#fdca26"
            ],
            [
             1,
             "#f0f921"
            ]
           ],
           "sequentialminus": [
            [
             0,
             "#0d0887"
            ],
            [
             0.1111111111111111,
             "#46039f"
            ],
            [
             0.2222222222222222,
             "#7201a8"
            ],
            [
             0.3333333333333333,
             "#9c179e"
            ],
            [
             0.4444444444444444,
             "#bd3786"
            ],
            [
             0.5555555555555556,
             "#d8576b"
            ],
            [
             0.6666666666666666,
             "#ed7953"
            ],
            [
             0.7777777777777778,
             "#fb9f3a"
            ],
            [
             0.8888888888888888,
             "#fdca26"
            ],
            [
             1,
             "#f0f921"
            ]
           ]
          },
          "colorway": [
           "#636efa",
           "#EF553B",
           "#00cc96",
           "#ab63fa",
           "#FFA15A",
           "#19d3f3",
           "#FF6692",
           "#B6E880",
           "#FF97FF",
           "#FECB52"
          ],
          "font": {
           "color": "#2a3f5f"
          },
          "geo": {
           "bgcolor": "white",
           "lakecolor": "white",
           "landcolor": "#E5ECF6",
           "showlakes": true,
           "showland": true,
           "subunitcolor": "white"
          },
          "hoverlabel": {
           "align": "left"
          },
          "hovermode": "closest",
          "mapbox": {
           "style": "light"
          },
          "paper_bgcolor": "white",
          "plot_bgcolor": "#E5ECF6",
          "polar": {
           "angularaxis": {
            "gridcolor": "white",
            "linecolor": "white",
            "ticks": ""
           },
           "bgcolor": "#E5ECF6",
           "radialaxis": {
            "gridcolor": "white",
            "linecolor": "white",
            "ticks": ""
           }
          },
          "scene": {
           "xaxis": {
            "backgroundcolor": "#E5ECF6",
            "gridcolor": "white",
            "gridwidth": 2,
            "linecolor": "white",
            "showbackground": true,
            "ticks": "",
            "zerolinecolor": "white"
           },
           "yaxis": {
            "backgroundcolor": "#E5ECF6",
            "gridcolor": "white",
            "gridwidth": 2,
            "linecolor": "white",
            "showbackground": true,
            "ticks": "",
            "zerolinecolor": "white"
           },
           "zaxis": {
            "backgroundcolor": "#E5ECF6",
            "gridcolor": "white",
            "gridwidth": 2,
            "linecolor": "white",
            "showbackground": true,
            "ticks": "",
            "zerolinecolor": "white"
           }
          },
          "shapedefaults": {
           "line": {
            "color": "#2a3f5f"
           }
          },
          "ternary": {
           "aaxis": {
            "gridcolor": "white",
            "linecolor": "white",
            "ticks": ""
           },
           "baxis": {
            "gridcolor": "white",
            "linecolor": "white",
            "ticks": ""
           },
           "bgcolor": "#E5ECF6",
           "caxis": {
            "gridcolor": "white",
            "linecolor": "white",
            "ticks": ""
           }
          },
          "title": {
           "x": 0.05
          },
          "xaxis": {
           "automargin": true,
           "gridcolor": "white",
           "linecolor": "white",
           "ticks": "",
           "title": {
            "standoff": 15
           },
           "zerolinecolor": "white",
           "zerolinewidth": 2
          },
          "yaxis": {
           "automargin": true,
           "gridcolor": "white",
           "linecolor": "white",
           "ticks": "",
           "title": {
            "standoff": 15
           },
           "zerolinecolor": "white",
           "zerolinewidth": 2
          }
         }
        }
       }
      },
      "text/html": [
       "<div>\n",
       "        \n",
       "        \n",
       "            <div id=\"cd8acb52-2c64-4578-925d-ae0ef024d189\" class=\"plotly-graph-div\" style=\"height:300px; width:100%;\"></div>\n",
       "            <script type=\"text/javascript\">\n",
       "                require([\"plotly\"], function(Plotly) {\n",
       "                    window.PLOTLYENV=window.PLOTLYENV || {};\n",
       "                    \n",
       "                if (document.getElementById(\"cd8acb52-2c64-4578-925d-ae0ef024d189\")) {\n",
       "                    Plotly.newPlot(\n",
       "                        'cd8acb52-2c64-4578-925d-ae0ef024d189',\n",
       "                        [{\"customdata\": [[92.0], [46.0], [88.0], [100.0], [85.0], [43.0], [61.0], [79.0], [93.0], [100.0], [100.0], [77.0], [30.0], [100.0], [98.0], [90.0], [46.0], [67.0], [100.0], [50.0], [100.0], [66.0], [49.0], [87.0], [82.0], [68.0], [57.0], [100.0], [76.0], [84.0], [81.0], [89.0], [30.0], [88.0], [100.0], [100.0], [100.0], [74.0], [100.0], [82.0], [84.0], [68.0], [96.0], [43.0], [100.0], [89.0], [46.0], [94.0], [77.0], [64.0], [100.0], [48.0], [59.0], [46.0], [88.0], [68.0], [81.0], [62.0], [46.0], [100.0], [99.0], [88.0], [55.0], [100.0], [78.0], [100.0], [49.0], [51.0], [27.0], [72.0], [79.0], [73.0], [100.0], [65.0], [51.0], [81.0], [100.0], [100.0], [85.0], [82.0], [99.0], [49.0], [100.0], [71.0], [58.0], [60.0], [70.0], [74.0], [62.0], [97.0], [83.0], [100.0], [100.0], [52.0], [65.0], [51.0], [91.0], [99.0], [85.0], [100.0], [60.0], [86.0], [80.0], [70.0], [100.0], [67.0], [83.0], [98.0], [90.0], [100.0], [100.0], [100.0], [100.0], [26.0], [99.0], [100.0], [93.0], [87.0], [92.0], [84.0], [94.0], [82.0], [70.0], [99.0], [78.0], [61.0], [91.0], [71.0], [100.0], [60.0], [80.0], [100.0], [86.0], [54.0], [88.0], [77.0], [46.0], [85.0], [93.0], [74.0], [62.0], [58.0], [27.0], [100.0], [97.0], [73.0], [73.0], [100.0], [0.0], [75.0], [94.0], [100.0], [94.0], [86.0], [100.0], [84.0], [100.0], [71.0], [70.0], [79.0], [98.0], [100.0], [2.0], [100.0], [90.0], [100.0], [74.0], [100.0], [75.0], [55.0], [89.0], [100.0], [83.0], [87.0], [100.0], [93.0], [97.0], [93.0], [90.0], [100.0], [63.0], [84.0], [85.0], [61.0], [72.0], [99.0], [95.0], [61.0], [100.0], [52.0], [65.0], [100.0], [83.0], [83.0], [81.0], [79.0], [71.0], [70.0], [68.0], [92.0], [75.0], [100.0], [100.0], [59.0], [98.0], [53.0], [98.0], [99.0], [100.0], [82.0], [87.0], [63.0], [83.0], [87.0], [100.0], [84.0], [88.0], [74.0], [94.0], [96.0], [68.0], [48.0], [100.0], [100.0], [71.0], [63.0], [61.0], [62.0], [100.0], [79.0], [59.0], [96.0], [91.0], [46.0], [100.0], [60.0], [94.0], [75.0], [100.0], [67.0], [68.0], [90.0], [55.0], [52.0], [82.0], [65.0], [74.0], [74.0], [75.0], [87.0], [59.0], [64.0], [74.0], [68.0], [53.0], [74.0], [100.0], [95.0], [72.0], [78.0], [88.0], [60.0], [87.0], [100.0], [55.0], [63.0], [74.0], [52.0], [100.0], [95.0], [71.0], [78.0], [100.0], [91.0], [99.0], [94.0], [100.0], [100.0], [73.0], [100.0], [86.0], [100.0], [88.0], [100.0], [2.0]], \"hoverlabel\": {\"namelength\": 0}, \"hovertemplate\": \"<b>%{hovertext}</b><br><br>Score=%{customdata[0]}<br>lat=%{lat}<br>lon=%{lon}\", \"hovertext\": [\"Birmingham AL\", \"Columbus GA\", \"Dothan AL\", \"Huntsville-Decatur (Florence) AL\", \"Meridian MS\", \"Mobile AL-Pensacola (Ft. Walton Beach) FL\", \"Montgomery (Selma) AL\", \"Anchorage AK\", \"Fairbanks AK\", \"Juneau AK\", \"Phoenix AZ\", \"Tucson (Sierra Vista) AZ\", \"Yuma AZ-El Centro CA\", \"Ft. Smith-Fayetteville-Springdale-Rogers AR\", \"Jonesboro AR\", \"Little Rock-Pine Bluff AR\", \"Memphis TN\", \"Monroe LA-El Dorado AR\", \"Springfield MO\", \"Bakersfield CA\", \"Chico-Redding CA\", \"Eureka CA\", \"Fresno-Visalia CA\", \"Los Angeles CA\", \"Medford-Klamath Falls OR\", \"Monterey-Salinas CA\", \"Palm Springs CA\", \"Reno NV\", \"Sacramento-Stockton-Modesto CA\", \"San Diego CA\", \"San Francisco-Oakland-San Jose CA\", \"Santa Barbara-Santa Maria-San Luis Obispo CA\", \"Yuma AZ-El Centro CA\", \"Colorado Springs-Pueblo CO\", \"Denver CO\", \"Grand Junction-Montrose CO\", \"Hartford & New Haven CT\", \"Philadelphia PA\", \"Salisbury MD\", \"Ft. Myers-Naples FL\", \"Gainesville FL\", \"Jacksonville FL\", \"Miami-Ft. Lauderdale FL\", \"Mobile AL-Pensacola (Ft. Walton Beach) FL\", \"Orlando-Daytona Beach-Melbourne FL\", \"Panama City FL\", \"Tallahassee FL-Thomasville GA\", \"Tampa-St. Petersburg (Sarasota) FL\", \"West Palm Beach-Ft. Pierce FL\", \"Albany GA\", \"Atlanta GA\", \"Augusta GA\", \"Chattanooga TN\", \"Columbus GA\", \"Dothan AL\", \"Jacksonville FL\", \"Macon GA\", \"Savannah GA\", \"Tallahassee FL-Thomasville GA\", \"Honolulu HI\", \"Boise ID\", \"Idaho Falls-Pocatello ID\", \"Spokane WA\", \"Twin Falls ID\", \"Champaign & Springfield-Decatur IL\", \"Chicago IL\", \"Davenport IA-Rock Island-Moline IL\", \"Evansville IN\", \"Paducah KY-Cape Girardeau MO-Harrisburg-Mount Vernon IL\", \"Peoria-Bloomington IL\", \"Rockford IL\", \"St. Louis MO\", \"Chicago IL\", \"Cincinnati OH\", \"Evansville IN\", \"Ft. Wayne IN\", \"Indianapolis IN\", \"Lafayette IN\", \"Louisville KY\", \"South Bend-Elkhart IN\", \"Cedar Rapids-Waterloo-Iowa City & Dubuque IA\", \"Davenport IA-Rock Island-Moline IL\", \"Des Moines-Ames IA\", \"Omaha NE\", \"Ottumwa IA-Kirksville MO\", \"Rochester MN-Mason City IA-Austin MN\", \"Sioux City IA\", \"Joplin MO-Pittsburg KS\", \"Kansas City MO\", \"St. Joseph MO\", \"Topeka KS\", \"Wichita-Hutchinson KS\", \"Bowling Green KY\", \"Charleston-Huntington WV\", \"Cincinnati OH\", \"Evansville IN\", \"Knoxville TN\", \"Lexington KY\", \"Louisville KY\", \"Nashville TN\", \"Tri-Cities TN-VA\", \"Alexandria LA\", \"Baton Rouge LA\", \"Lafayette LA\", \"Lake Charles LA\", \"Monroe LA-El Dorado AR\", \"New Orleans LA\", \"Bangor ME\", \"Portland-Auburn ME\", \"Presque Isle ME\", \"Baltimore MD\", \"Salisbury MD\", \"Boston MA-Manchester NH\", \"Providence RI-New Bedford MA\", \"Springfield-Holyoke MA\", \"Alpena MI\", \"Detroit MI\", \"Flint-Saginaw-Bay City MI\", \"Grand Rapids-Kalamazoo-Battle Creek MI\", \"Lansing MI\", \"Marquette MI\", \"South Bend-Elkhart IN\", \"Toledo OH\", \"Traverse City-Cadillac MI\", \"Duluth MN-Superior WI\", \"Fargo-Valley City ND\", \"La Crosse-Eau Claire WI\", \"Mankato MN\", \"Minneapolis-St. Paul MN\", \"Rochester MN-Mason City IA-Austin MN\", \"Baton Rouge LA\", \"Biloxi-Gulfport MS\", \"Columbus-Tupelo-West Point MS\", \"Greenwood-Greenville MS\", \"Hattiesburg-Laurel MS\", \"Jackson MS\", \"Memphis TN\", \"Meridian MS\", \"Columbia-Jefferson City MO\", \"Joplin MO-Pittsburg KS\", \"Kansas City MO\", \"Ottumwa IA-Kirksville MO\", \"Paducah KY-Cape Girardeau MO-Harrisburg-Mount Vernon IL\", \"Springfield MO\", \"St. Joseph MO\", \"St. Louis MO\", \"Billings, MT\", \"Butte-Bozeman MT\", \"Glendive MT\", \"Great Falls MT\", \"Helena MT\", \"Minot-Bismarck-Dickinson(Williston) ND\", \"Missoula MT\", \"Cheyenne WY-Scottsbluff NE\", \"Denver CO\", \"Lincoln & Hastings-Kearney NE\", \"North Platte NE\", \"Omaha NE\", \"Sioux City IA\", \"Sioux Falls(Mitchell) SD\", \"Las Vegas NV\", \"Reno NV\", \"Salt Lake City UT\", \"Boston MA-Manchester NH\", \"Portland-Auburn ME\", \"New York NY\", \"Philadelphia PA\", \"Albuquerque-Santa Fe NM\", \"Amarillo TX\", \"El Paso TX\", \"Albany-Schenectady-Troy NY\", \"Binghamton NY\", \"Buffalo NY\", \"Elmira NY\", \"New York NY\", \"Rochester NY\", \"Syracuse NY\", \"Utica NY\", \"Watertown NY\", \"Charlotte NC\", \"Florence-Myrtle Beach SC\", \"Greensboro-High Point-Winston Salem NC\", \"Greenville-New Bern-Washington NC\", \"Greenville-Spartanburg SC-Asheville NC-Anderson SC\", \"Norfolk-Portsmouth-Newport News VA\", \"Raleigh-Durham (Fayetteville) NC\", \"Wilmington NC\", \"Fargo-Valley City ND\", \"Minot-Bismarck-Dickinson(Williston) ND\", \"Charleston-Huntington WV\", \"Cincinnati OH\", \"Cleveland-Akron (Canton) OH\", \"Columbus OH\", \"Dayton OH\", \"Ft. Wayne IN\", \"Lima OH\", \"Parkersburg WV\", \"Toledo OH\", \"Youngstown OH\", \"Zanesville OH\", \"Amarillo TX\", \"Ft. Smith-Fayetteville-Springdale-Rogers AR\", \"Oklahoma City OK\", \"Sherman TX-Ada OK\", \"Tulsa OK\", \"Wichita Falls TX & Lawton OK\", \"Bend OR\", \"Boise ID\", \"Eugene OR\", \"Medford-Klamath Falls OR\", \"Portland OR\", \"Yakima-Pasco-Richland-Kennewick WA\", \"Buffalo NY\", \"Elmira NY\", \"Erie PA\", \"Harrisburg-Lancaster-Lebanon-York PA\", \"Johnstown-Altoona PA\", \"Philadelphia PA\", \"Pittsburgh PA\", \"Wilkes Barre-Scranton PA\", \"Youngstown OH\", \"Augusta GA\", \"Charleston SC\", \"Charlotte NC\", \"Columbia SC\", \"Florence-Myrtle Beach SC\", \"Greenville-Spartanburg SC-Asheville NC-Anderson SC\", \"Savannah GA\", \"Rapid City SD\", \"Sioux Falls(Mitchell) SD\", \"Chattanooga TN\", \"Jackson TN\", \"Knoxville TN\", \"Memphis TN\", \"Nashville TN\", \"Tri-Cities TN-VA\", \"Abilene-Sweetwater TX\", \"Amarillo TX\", \"Austin TX\", \"Beaumont-Port Arthur TX\", \"Corpus Christi TX\", \"Dallas-Ft. Worth TX\", \"El Paso TX\", \"Harlingen-Weslaco-Brownsville-McAllen TX\", \"Houston TX\", \"Laredo TX\", \"Lubbock TX\", \"Odessa-Midland TX\", \"San Angelo TX\", \"San Antonio TX\", \"Sherman TX-Ada OK\", \"Tyler-Longview(Lufkin & Nacogdoches) TX\", \"Victoria TX\", \"Waco-Temple-Bryan TX\", \"Wichita Falls TX & Lawton OK\", \"Bluefield-Beckley-Oak Hill WV\", \"Charlottesville VA\", \"Harrisonburg VA\", \"Norfolk-Portsmouth-Newport News VA\", \"Richmond-Petersburg VA\", \"Roanoke-Lynchburg VA\", \"Tri-Cities TN-VA\", \"Portland OR\", \"Seattle-Tacoma WA\", \"Spokane WA\", \"Yakima-Pasco-Richland-Kennewick WA\", \"Bluefield-Beckley-Oak Hill WV\", \"Charleston-Huntington WV\", \"Clarksburg-Weston WV\", \"Harrisonburg VA\", \"Parkersburg WV\", \"Duluth MN-Superior WI\", \"Green Bay-Appleton WI\", \"La Crosse-Eau Claire WI\", \"Madison WI\", \"Milwaukee WI\", \"Minneapolis-St. Paul MN\", \"Wausau-Rhinelander WI\", \"Billings, MT\", \"Casper-Riverton WY\", \"Cheyenne WY-Scottsbluff NE\", \"Denver CO\", \"Idaho Falls-Pocatello ID\", \"Rapid City SD\", \"Salt Lake City UT\"], \"lat\": [33.570499, 43.1830762, 31.2237434, 33.561968, 39.695040500000005, 28.06365535, 32.412397999999996, 61.2163129, 64.837845, 58.30194960000001, 33.448586600000006, 32.25346, 32.665135, 35.3872218, 35.8428646, 34.7464809, 35.1490215, 33.215303999999996, 37.2166779, 35.3738712, 39.757187200000004, 45.498527100000004, 36.756176200000006, 34.0536909, 42.326418100000005, 36.6744117, 33.8246269, 39.529270000000004, 38.5815719, 32.7174209, 45.4149778, 45.536193299999994, 32.665135, 38.8339578, 39.7348381, 39.063956, 41.763709999999996, 39.9527237, 38.3662114, 26.325796899999997, 29.67357765, 30.3321838, 26.0917308, 28.06365535, 28.5479786, 30.1600827, 30.533356199999997, 27.951849100000004, 26.7153425, 51.519091700000004, 33.749098700000005, 33.470971399999996, 35.0457219, 43.1830762, 31.2237434, 30.3321838, 32.8406946, 43.4129206, 30.533356199999997, 21.304547, 43.6166163, 43.4935245, 47.6579425, 42.5704219, 40.1125774, 41.875561600000005, 41.5236436, 4.5777639, 37.0833893, 40.490697999999995, 42.2713945, 38.6268039, 41.875561600000005, 39.1014537, 4.5777639, 41.0799898, 39.7683331, 40.4167022, 38.254237599999996, 41.68338129999999, 41.9758872, 41.5236436, 41.8090275, 41.258745899999994, 41.0135903, 44.02343870000001, 42.4966815, 37.084179999999996, 39.100105, 39.7686055, 39.049011, 35.636801, 36.990319899999996, 38.4121014, 39.1014537, 4.5777639, 35.960394799999996, 38.0464066, 38.254237599999996, 36.1622296, 46.2306739, 31.199004, 30.445959600000002, 30.2240897, 30.226594899999995, 33.215303999999996, 29.949932300000004, 29.0659229, 44.0978509, 46.681478999999996, 39.2908816, 38.3662114, 42.273947, 41.8239891, 42.2417576, 45.01761810000001, 42.331550899999996, 43.0171773, 42.91424129999999, 42.73377120000001, 46.4481521, 41.68338129999999, 41.678675399999996, 44.275838799999995, 46.7599265, 46.876138, 43.8014053, 44.163466299999996, 44.9772995, 44.02343870000001, 30.445959600000002, 30.40711375, 43.336572499999996, 39.59493885, 31.327118900000002, 45.44924535, 35.1490215, 39.695040500000005, 38.951883, 37.084179999999996, 39.100105, 41.0135903, 37.0833893, 37.2166779, 39.7686055, 38.6268039, 45.78749570000001, 45.421399, 47.105290000000004, 47.5048851, 46.592712, 48.23251, 46.8700801, 34.1712252, 39.7348381, 40.56902635, 41.1238873, 41.258745899999994, 42.4966815, 43.536388, 36.1662859, 39.529270000000004, 40.7670126, 42.273947, 44.0978509, 40.7127281, 39.9527237, 35.0841034, 35.2072185, 31.760037199999996, 42.7373, 42.096968, 42.8867166, 42.089796500000006, 40.7127281, 43.157284999999995, 43.0481221, 43.100903100000004, 43.9747838, 35.2270869, 41.204010100000005, 36.0726355, 35.612660999999996, 34.851354, 36.846292299999995, 35.7803977, 34.2257282, 46.876138, 48.23251, 38.4121014, 39.1014537, 41.2278419, 39.9622601, 39.758947799999994, 41.0799898, 40.7399785, 39.2699565, 41.678675399999996, 41.1035786, 39.9403453, 35.2072185, 35.3872218, 35.4729886, 36.5012047, 36.1556805, 33.930828000000005, 44.058172799999994, 43.6166163, 44.0505054, 42.326418100000005, 45.5202471, 46.2591683, 42.8867166, 42.089796500000006, 42.129471200000005, 40.266310700000005, 40.3267407, 39.9527237, 40.4416941, 41.2464824, 41.1035786, 33.470971399999996, 32.7876012, 35.2270869, 34.000749299999995, 41.204010100000005, 34.851354, 43.4129206, 44.081176, 43.536388, 35.0457219, 35.6144446, 35.960394799999996, 35.1490215, 36.1622296, 46.2306739, 32.44645, 35.2072185, 30.2711286, 29.948825, 27.8002542, 32.759907500000004, 31.760037199999996, 26.1908241, 29.7589382, 27.519984100000002, 33.5778631, 31.906186699999996, 31.464835700000002, 29.424600199999997, 36.5012047, 32.351260100000005, 28.802644300000004, 30.681537, 33.930828000000005, 37.2698395, 38.029306, 38.4493315, 36.846292299999995, 17.985284600000004, 37.273821500000004, 46.2306739, 45.5202471, 47.447567299999996, 47.6579425, 46.2591683, 37.2698395, 38.4121014, 39.2806451, 38.4493315, 39.2699565, 46.7599265, 51.666286799999995, 43.8014053, 43.074760999999995, 43.0349931, 44.9772995, 44.95960170000001, 45.78749570000001, 33.9392689, 34.1712252, 39.7348381, 43.4935245, 44.081176, 40.7670126], \"legendgroup\": \"\", \"lon\": [-86.765783, -79.8147518, -85.39339059999999, -86.79881400000001, -89.1217469, -80.62182115, -87.032556, -149.8948523, -147.716675, -134.419734, -112.0773456, -110.91178899999998, -114.47603159999998, -94.4248983, -90.7034522, -92.2895948, -90.0516285, -92.638577, -93.2920373, -119.01946389999999, -121.8301977, -62.6816736, -119.4751227, -118.2427666, -122.8718605, -121.6550372, -116.54030300000001, -119.8136744, -121.49439960000001, -117.16277140000001, -72.74939599999999, -73.6077401, -114.47603159999998, -104.8253485, -104.9653271, -108.5507317, -72.685097, -75.16352619999999, -75.60088809999999, -81.7766479, -82.3233746, -81.655651, -80.13593979999999, -80.62182115, -81.41278419, -85.6545729, -84.2328667, -82.45639720000001, -80.0533746, -2.546169, -84.39018490000001, -81.9748429, -85.3094883, -79.8147518, -85.39339059999999, -81.655651, -83.6324022, -79.70282759999999, -84.2328667, -157.8556764, -116.20088600000001, -112.0400919, -117.42122649999999, -114.46031709999998, -88.2429781, -87.6244212, -90.57763680000001, -7.647248599999999, -88.6000478, -89.061913, -89.09396600000001, -90.1994097, -87.6244212, -84.5124602, -7.647248599999999, -85.13860150000001, -86.1583502, -86.8752869, -85.759407, -86.2500066, -91.6704053, -90.57763680000001, -93.6149176, -95.93837579999999, -92.41492990000002, -92.46301820000001, -96.4058782, -94.51323000000001, -94.5781416, -94.8466322, -95.67755600000001, -101.62249200000001, -86.4436018, -82.42871679999999, -84.5124602, -7.647248599999999, -83.92102609999999, -84.4970393, -85.759407, -86.7743531, -119.09210060000001, 29.894378000000003, -91.18738, -92.0198427, -93.21737590000001, -92.638577, -90.0701156, -110.97133000000001, -70.2311655, -68.016357, -76.610759, -75.60088809999999, -71.076741, -71.4128343, -72.64786840000001, -83.6670019, -83.04664029999999, -83.7236024, -85.533004, -84.5553805, -87.6305899, -86.2500066, -83.51272829999999, -85.71367459999999, -92.1340655, -96.88384640000001, -91.2395429, -93.9993505, -93.2654692, -92.46301820000001, -91.18738, -89.07143302, -89.01936009999999, -86.12237862, -89.2903392, -122.7154051, -90.0516285, -89.1217469, -92.3337366, -94.51323000000001, -94.5781416, -92.41492990000002, -88.6000478, -93.2920373, -94.8466322, -90.1994097, -108.49606999999999, -111.06981100000002, -104.71246, -111.2918908, -112.03610900000001, -101.296273, -113.99527959999999, -118.8433527, -104.9653271, -98.39126256, -100.7654232, -95.93837579999999, -96.4058782, -96.731667, -115.149225, -119.8136744, -111.89043079999999, -71.076741, -70.2311655, -74.0060152, -75.16352619999999, -106.6509851, -101.83382459999999, -106.48728700000001, -73.724799, -75.91434100000001, -78.87839220000001, -76.8077338, -74.0060152, -77.615214, -76.1474244, -75.2326641, -75.91075649999999, -80.8431268, -73.0970039, -79.79197540000001, -77.3663538, -82.3984882, -76.2929252, -78.63909890000001, -77.9447107, -96.88384640000001, -101.296273, -82.42871679999999, -84.5124602, -81.4910108, -83.00070649999999, -84.1916069, -85.13860150000001, -84.105006, -81.5506916, -83.51272829999999, -80.6520161, -82.01319240000001, -101.83382459999999, -94.4248983, -97.5170536, -101.7637194, -95.9929113, -98.484879, -121.31530959999999, -116.20088600000001, -123.09505060000001, -122.8718605, -122.6741949, -119.29044009999998, -78.87839220000001, -76.8077338, -80.0852695, -76.8861122, -78.9219698, -75.16352619999999, -79.99008609999998, -75.8817316, -80.6520161, -81.9748429, -79.9402728, -80.8431268, -81.03433129999999, -73.0970039, -82.3984882, -79.70282759999999, -103.22800600000001, -96.731667, -85.3094883, -88.8177418, -83.92102609999999, -90.0516285, -86.7743531, -119.09210060000001, -99.7475905, -101.83382459999999, -97.7436995, -93.980509, -97.3955744, -97.1735626, -106.48728700000001, -97.69597940000001, -95.36769740000001, -99.49537640000001, -101.85516650000001, -102.2839569, -100.43984420000001, -98.4951405, -101.7637194, -95.3010624, -96.9766308, -96.35646650000001, -98.484879, -81.2223195, -78.4766781, -78.8688833, -76.2929252, -76.58718470000001, -79.96020215, -119.09210060000001, -122.6741949, -122.3080159, -117.42122649999999, -119.29044009999998, -81.2223195, -82.42871679999999, -80.34453409999999, -78.8688833, -81.5506916, -92.1340655, -1.3428908000000002, -91.2395429, -89.3837613, -87.92249699999999, -93.2654692, -89.6298239, -108.49606999999999, -83.65261240000001, -118.8433527, -104.9653271, -112.0400919, -103.22800600000001, -111.89043079999999], \"marker\": {\"color\": \"#636efa\", \"size\": [92.0, 46.0, 88.0, 100.0, 85.0, 43.0, 61.0, 79.0, 93.0, 100.0, 100.0, 77.0, 30.0, 100.0, 98.0, 90.0, 46.0, 67.0, 100.0, 50.0, 100.0, 66.0, 49.0, 87.0, 82.0, 68.0, 57.0, 100.0, 76.0, 84.0, 81.0, 89.0, 30.0, 88.0, 100.0, 100.0, 100.0, 74.0, 100.0, 82.0, 84.0, 68.0, 96.0, 43.0, 100.0, 89.0, 46.0, 94.0, 77.0, 64.0, 100.0, 48.0, 59.0, 46.0, 88.0, 68.0, 81.0, 62.0, 46.0, 100.0, 99.0, 88.0, 55.0, 100.0, 78.0, 100.0, 49.0, 51.0, 27.0, 72.0, 79.0, 73.0, 100.0, 65.0, 51.0, 81.0, 100.0, 100.0, 85.0, 82.0, 99.0, 49.0, 100.0, 71.0, 58.0, 60.0, 70.0, 74.0, 62.0, 97.0, 83.0, 100.0, 100.0, 52.0, 65.0, 51.0, 91.0, 99.0, 85.0, 100.0, 60.0, 86.0, 80.0, 70.0, 100.0, 67.0, 83.0, 98.0, 90.0, 100.0, 100.0, 100.0, 100.0, 26.0, 99.0, 100.0, 93.0, 87.0, 92.0, 84.0, 94.0, 82.0, 70.0, 99.0, 78.0, 61.0, 91.0, 71.0, 100.0, 60.0, 80.0, 100.0, 86.0, 54.0, 88.0, 77.0, 46.0, 85.0, 93.0, 74.0, 62.0, 58.0, 27.0, 100.0, 97.0, 73.0, 73.0, 100.0, 0.0, 75.0, 94.0, 100.0, 94.0, 86.0, 100.0, 84.0, 100.0, 71.0, 70.0, 79.0, 98.0, 100.0, 2.0, 100.0, 90.0, 100.0, 74.0, 100.0, 75.0, 55.0, 89.0, 100.0, 83.0, 87.0, 100.0, 93.0, 97.0, 93.0, 90.0, 100.0, 63.0, 84.0, 85.0, 61.0, 72.0, 99.0, 95.0, 61.0, 100.0, 52.0, 65.0, 100.0, 83.0, 83.0, 81.0, 79.0, 71.0, 70.0, 68.0, 92.0, 75.0, 100.0, 100.0, 59.0, 98.0, 53.0, 98.0, 99.0, 100.0, 82.0, 87.0, 63.0, 83.0, 87.0, 100.0, 84.0, 88.0, 74.0, 94.0, 96.0, 68.0, 48.0, 100.0, 100.0, 71.0, 63.0, 61.0, 62.0, 100.0, 79.0, 59.0, 96.0, 91.0, 46.0, 100.0, 60.0, 94.0, 75.0, 100.0, 67.0, 68.0, 90.0, 55.0, 52.0, 82.0, 65.0, 74.0, 74.0, 75.0, 87.0, 59.0, 64.0, 74.0, 68.0, 53.0, 74.0, 100.0, 95.0, 72.0, 78.0, 88.0, 60.0, 87.0, 100.0, 55.0, 63.0, 74.0, 52.0, 100.0, 95.0, 71.0, 78.0, 100.0, 91.0, 99.0, 94.0, 100.0, 100.0, 73.0, 100.0, 86.0, 100.0, 88.0, 100.0, 2.0], \"sizemode\": \"area\", \"sizeref\": 1.0}, \"mode\": \"markers\", \"name\": \"\", \"showlegend\": false, \"subplot\": \"mapbox\", \"type\": \"scattermapbox\"}],\n",
       "                        {\"height\": 300, \"legend\": {\"itemsizing\": \"constant\", \"tracegroupgap\": 0}, \"mapbox\": {\"center\": {\"lat\": 38.43315610789474, \"lon\": -91.03791632645614}, \"domain\": {\"x\": [0.0, 1.0], \"y\": [0.0, 1.0]}, \"style\": \"carto-darkmatter\", \"zoom\": 3}, \"margin\": {\"b\": 0, \"l\": 0, \"r\": 0, \"t\": 0}, \"template\": {\"data\": {\"bar\": [{\"error_x\": {\"color\": \"#2a3f5f\"}, \"error_y\": {\"color\": \"#2a3f5f\"}, \"marker\": {\"line\": {\"color\": \"#E5ECF6\", \"width\": 0.5}}, \"type\": \"bar\"}], \"barpolar\": [{\"marker\": {\"line\": {\"color\": \"#E5ECF6\", \"width\": 0.5}}, \"type\": \"barpolar\"}], \"carpet\": [{\"aaxis\": {\"endlinecolor\": \"#2a3f5f\", \"gridcolor\": \"white\", \"linecolor\": \"white\", \"minorgridcolor\": \"white\", \"startlinecolor\": \"#2a3f5f\"}, \"baxis\": {\"endlinecolor\": \"#2a3f5f\", \"gridcolor\": \"white\", \"linecolor\": \"white\", \"minorgridcolor\": \"white\", \"startlinecolor\": \"#2a3f5f\"}, \"type\": \"carpet\"}], \"choropleth\": [{\"colorbar\": {\"outlinewidth\": 0, \"ticks\": \"\"}, \"type\": \"choropleth\"}], \"contour\": [{\"colorbar\": {\"outlinewidth\": 0, \"ticks\": \"\"}, \"colorscale\": [[0.0, \"#0d0887\"], [0.1111111111111111, \"#46039f\"], [0.2222222222222222, \"#7201a8\"], [0.3333333333333333, \"#9c179e\"], [0.4444444444444444, \"#bd3786\"], [0.5555555555555556, \"#d8576b\"], [0.6666666666666666, \"#ed7953\"], [0.7777777777777778, \"#fb9f3a\"], [0.8888888888888888, \"#fdca26\"], [1.0, \"#f0f921\"]], \"type\": \"contour\"}], \"contourcarpet\": [{\"colorbar\": {\"outlinewidth\": 0, \"ticks\": \"\"}, \"type\": \"contourcarpet\"}], \"heatmap\": [{\"colorbar\": {\"outlinewidth\": 0, \"ticks\": \"\"}, \"colorscale\": [[0.0, \"#0d0887\"], [0.1111111111111111, \"#46039f\"], [0.2222222222222222, \"#7201a8\"], [0.3333333333333333, \"#9c179e\"], [0.4444444444444444, \"#bd3786\"], [0.5555555555555556, \"#d8576b\"], [0.6666666666666666, \"#ed7953\"], [0.7777777777777778, \"#fb9f3a\"], [0.8888888888888888, \"#fdca26\"], [1.0, \"#f0f921\"]], \"type\": \"heatmap\"}], \"heatmapgl\": [{\"colorbar\": {\"outlinewidth\": 0, \"ticks\": \"\"}, \"colorscale\": [[0.0, \"#0d0887\"], [0.1111111111111111, \"#46039f\"], [0.2222222222222222, \"#7201a8\"], [0.3333333333333333, \"#9c179e\"], [0.4444444444444444, \"#bd3786\"], [0.5555555555555556, \"#d8576b\"], [0.6666666666666666, \"#ed7953\"], [0.7777777777777778, \"#fb9f3a\"], [0.8888888888888888, \"#fdca26\"], [1.0, \"#f0f921\"]], \"type\": \"heatmapgl\"}], \"histogram\": [{\"marker\": {\"colorbar\": {\"outlinewidth\": 0, \"ticks\": \"\"}}, \"type\": \"histogram\"}], \"histogram2d\": [{\"colorbar\": {\"outlinewidth\": 0, \"ticks\": \"\"}, \"colorscale\": [[0.0, \"#0d0887\"], [0.1111111111111111, \"#46039f\"], [0.2222222222222222, \"#7201a8\"], [0.3333333333333333, \"#9c179e\"], [0.4444444444444444, \"#bd3786\"], [0.5555555555555556, \"#d8576b\"], [0.6666666666666666, \"#ed7953\"], [0.7777777777777778, \"#fb9f3a\"], [0.8888888888888888, \"#fdca26\"], [1.0, \"#f0f921\"]], \"type\": \"histogram2d\"}], \"histogram2dcontour\": [{\"colorbar\": {\"outlinewidth\": 0, \"ticks\": \"\"}, \"colorscale\": [[0.0, \"#0d0887\"], [0.1111111111111111, \"#46039f\"], [0.2222222222222222, \"#7201a8\"], [0.3333333333333333, \"#9c179e\"], [0.4444444444444444, \"#bd3786\"], [0.5555555555555556, \"#d8576b\"], [0.6666666666666666, \"#ed7953\"], [0.7777777777777778, \"#fb9f3a\"], [0.8888888888888888, \"#fdca26\"], [1.0, \"#f0f921\"]], \"type\": \"histogram2dcontour\"}], \"mesh3d\": [{\"colorbar\": {\"outlinewidth\": 0, \"ticks\": \"\"}, \"type\": \"mesh3d\"}], \"parcoords\": [{\"line\": {\"colorbar\": {\"outlinewidth\": 0, \"ticks\": \"\"}}, \"type\": \"parcoords\"}], \"pie\": [{\"automargin\": true, \"type\": \"pie\"}], \"scatter\": [{\"marker\": {\"colorbar\": {\"outlinewidth\": 0, \"ticks\": \"\"}}, \"type\": \"scatter\"}], \"scatter3d\": [{\"line\": {\"colorbar\": {\"outlinewidth\": 0, \"ticks\": \"\"}}, \"marker\": {\"colorbar\": {\"outlinewidth\": 0, \"ticks\": \"\"}}, \"type\": \"scatter3d\"}], \"scattercarpet\": [{\"marker\": {\"colorbar\": {\"outlinewidth\": 0, \"ticks\": \"\"}}, \"type\": \"scattercarpet\"}], \"scattergeo\": [{\"marker\": {\"colorbar\": {\"outlinewidth\": 0, \"ticks\": \"\"}}, \"type\": \"scattergeo\"}], \"scattergl\": [{\"marker\": {\"colorbar\": {\"outlinewidth\": 0, \"ticks\": \"\"}}, \"type\": \"scattergl\"}], \"scattermapbox\": [{\"marker\": {\"colorbar\": {\"outlinewidth\": 0, \"ticks\": \"\"}}, \"type\": \"scattermapbox\"}], \"scatterpolar\": [{\"marker\": {\"colorbar\": {\"outlinewidth\": 0, \"ticks\": \"\"}}, \"type\": \"scatterpolar\"}], \"scatterpolargl\": [{\"marker\": {\"colorbar\": {\"outlinewidth\": 0, \"ticks\": \"\"}}, \"type\": \"scatterpolargl\"}], \"scatterternary\": [{\"marker\": {\"colorbar\": {\"outlinewidth\": 0, \"ticks\": \"\"}}, \"type\": \"scatterternary\"}], \"surface\": [{\"colorbar\": {\"outlinewidth\": 0, \"ticks\": \"\"}, \"colorscale\": [[0.0, \"#0d0887\"], [0.1111111111111111, \"#46039f\"], [0.2222222222222222, \"#7201a8\"], [0.3333333333333333, \"#9c179e\"], [0.4444444444444444, \"#bd3786\"], [0.5555555555555556, \"#d8576b\"], [0.6666666666666666, \"#ed7953\"], [0.7777777777777778, \"#fb9f3a\"], [0.8888888888888888, \"#fdca26\"], [1.0, \"#f0f921\"]], \"type\": \"surface\"}], \"table\": [{\"cells\": {\"fill\": {\"color\": \"#EBF0F8\"}, \"line\": {\"color\": \"white\"}}, \"header\": {\"fill\": {\"color\": \"#C8D4E3\"}, \"line\": {\"color\": \"white\"}}, \"type\": \"table\"}]}, \"layout\": {\"annotationdefaults\": {\"arrowcolor\": \"#2a3f5f\", \"arrowhead\": 0, \"arrowwidth\": 1}, \"coloraxis\": {\"colorbar\": {\"outlinewidth\": 0, \"ticks\": \"\"}}, \"colorscale\": {\"diverging\": [[0, \"#8e0152\"], [0.1, \"#c51b7d\"], [0.2, \"#de77ae\"], [0.3, \"#f1b6da\"], [0.4, \"#fde0ef\"], [0.5, \"#f7f7f7\"], [0.6, \"#e6f5d0\"], [0.7, \"#b8e186\"], [0.8, \"#7fbc41\"], [0.9, \"#4d9221\"], [1, \"#276419\"]], \"sequential\": [[0.0, \"#0d0887\"], [0.1111111111111111, \"#46039f\"], [0.2222222222222222, \"#7201a8\"], [0.3333333333333333, \"#9c179e\"], [0.4444444444444444, \"#bd3786\"], [0.5555555555555556, \"#d8576b\"], [0.6666666666666666, \"#ed7953\"], [0.7777777777777778, \"#fb9f3a\"], [0.8888888888888888, \"#fdca26\"], [1.0, \"#f0f921\"]], \"sequentialminus\": [[0.0, \"#0d0887\"], [0.1111111111111111, \"#46039f\"], [0.2222222222222222, \"#7201a8\"], [0.3333333333333333, \"#9c179e\"], [0.4444444444444444, \"#bd3786\"], [0.5555555555555556, \"#d8576b\"], [0.6666666666666666, \"#ed7953\"], [0.7777777777777778, \"#fb9f3a\"], [0.8888888888888888, \"#fdca26\"], [1.0, \"#f0f921\"]]}, \"colorway\": [\"#636efa\", \"#EF553B\", \"#00cc96\", \"#ab63fa\", \"#FFA15A\", \"#19d3f3\", \"#FF6692\", \"#B6E880\", \"#FF97FF\", \"#FECB52\"], \"font\": {\"color\": \"#2a3f5f\"}, \"geo\": {\"bgcolor\": \"white\", \"lakecolor\": \"white\", \"landcolor\": \"#E5ECF6\", \"showlakes\": true, \"showland\": true, \"subunitcolor\": \"white\"}, \"hoverlabel\": {\"align\": \"left\"}, \"hovermode\": \"closest\", \"mapbox\": {\"style\": \"light\"}, \"paper_bgcolor\": \"white\", \"plot_bgcolor\": \"#E5ECF6\", \"polar\": {\"angularaxis\": {\"gridcolor\": \"white\", \"linecolor\": \"white\", \"ticks\": \"\"}, \"bgcolor\": \"#E5ECF6\", \"radialaxis\": {\"gridcolor\": \"white\", \"linecolor\": \"white\", \"ticks\": \"\"}}, \"scene\": {\"xaxis\": {\"backgroundcolor\": \"#E5ECF6\", \"gridcolor\": \"white\", \"gridwidth\": 2, \"linecolor\": \"white\", \"showbackground\": true, \"ticks\": \"\", \"zerolinecolor\": \"white\"}, \"yaxis\": {\"backgroundcolor\": \"#E5ECF6\", \"gridcolor\": \"white\", \"gridwidth\": 2, \"linecolor\": \"white\", \"showbackground\": true, \"ticks\": \"\", \"zerolinecolor\": \"white\"}, \"zaxis\": {\"backgroundcolor\": \"#E5ECF6\", \"gridcolor\": \"white\", \"gridwidth\": 2, \"linecolor\": \"white\", \"showbackground\": true, \"ticks\": \"\", \"zerolinecolor\": \"white\"}}, \"shapedefaults\": {\"line\": {\"color\": \"#2a3f5f\"}}, \"ternary\": {\"aaxis\": {\"gridcolor\": \"white\", \"linecolor\": \"white\", \"ticks\": \"\"}, \"baxis\": {\"gridcolor\": \"white\", \"linecolor\": \"white\", \"ticks\": \"\"}, \"bgcolor\": \"#E5ECF6\", \"caxis\": {\"gridcolor\": \"white\", \"linecolor\": \"white\", \"ticks\": \"\"}}, \"title\": {\"x\": 0.05}, \"xaxis\": {\"automargin\": true, \"gridcolor\": \"white\", \"linecolor\": \"white\", \"ticks\": \"\", \"title\": {\"standoff\": 15}, \"zerolinecolor\": \"white\", \"zerolinewidth\": 2}, \"yaxis\": {\"automargin\": true, \"gridcolor\": \"white\", \"linecolor\": \"white\", \"ticks\": \"\", \"title\": {\"standoff\": 15}, \"zerolinecolor\": \"white\", \"zerolinewidth\": 2}}}},\n",
       "                        {\"responsive\": true}\n",
       "                    ).then(function(){\n",
       "                            \n",
       "var gd = document.getElementById('cd8acb52-2c64-4578-925d-ae0ef024d189');\n",
       "var x = new MutationObserver(function (mutations, observer) {{\n",
       "        var display = window.getComputedStyle(gd).display;\n",
       "        if (!display || display === 'none') {{\n",
       "            console.log([gd, 'removed!']);\n",
       "            Plotly.purge(gd);\n",
       "            observer.disconnect();\n",
       "        }}\n",
       "}});\n",
       "\n",
       "// Listen for the removal of the full notebook cells\n",
       "var notebookContainer = gd.closest('#notebook-container');\n",
       "if (notebookContainer) {{\n",
       "    x.observe(notebookContainer, {childList: true});\n",
       "}}\n",
       "\n",
       "// Listen for the clearing of the current output cell\n",
       "var outputEl = gd.closest('.output');\n",
       "if (outputEl) {{\n",
       "    x.observe(outputEl, {childList: true});\n",
       "}}\n",
       "\n",
       "                        })\n",
       "                };\n",
       "                });\n",
       "            </script>\n",
       "        </div>"
      ]
     },
     "metadata": {},
     "output_type": "display_data"
    },
    {
     "name": "stdout",
     "output_type": "stream",
     "text": [
      "Results/australia fire-1-.jpeg\n"
     ]
    },
    {
     "data": {
      "application/vnd.plotly.v1+json": {
       "config": {
        "plotlyServerURL": "https://plot.ly"
       },
       "data": [
        {
         "customdata": [
          [
           92
          ],
          [
           46
          ],
          [
           88
          ],
          [
           100
          ],
          [
           85
          ],
          [
           43
          ],
          [
           61
          ],
          [
           79
          ],
          [
           93
          ],
          [
           100
          ],
          [
           100
          ],
          [
           77
          ],
          [
           30
          ],
          [
           100
          ],
          [
           98
          ],
          [
           90
          ],
          [
           46
          ],
          [
           67
          ],
          [
           100
          ],
          [
           50
          ],
          [
           100
          ],
          [
           66
          ],
          [
           49
          ],
          [
           87
          ],
          [
           82
          ],
          [
           68
          ],
          [
           57
          ],
          [
           100
          ],
          [
           76
          ],
          [
           84
          ],
          [
           81
          ],
          [
           89
          ],
          [
           30
          ],
          [
           88
          ],
          [
           100
          ],
          [
           100
          ],
          [
           100
          ],
          [
           74
          ],
          [
           100
          ],
          [
           82
          ],
          [
           84
          ],
          [
           68
          ],
          [
           96
          ],
          [
           43
          ],
          [
           100
          ],
          [
           89
          ],
          [
           46
          ],
          [
           94
          ],
          [
           77
          ],
          [
           64
          ],
          [
           100
          ],
          [
           48
          ],
          [
           59
          ],
          [
           46
          ],
          [
           88
          ],
          [
           68
          ],
          [
           81
          ],
          [
           62
          ],
          [
           46
          ],
          [
           100
          ],
          [
           99
          ],
          [
           88
          ],
          [
           55
          ],
          [
           100
          ],
          [
           78
          ],
          [
           100
          ],
          [
           49
          ],
          [
           51
          ],
          [
           27
          ],
          [
           72
          ],
          [
           79
          ],
          [
           73
          ],
          [
           100
          ],
          [
           65
          ],
          [
           51
          ],
          [
           81
          ],
          [
           100
          ],
          [
           100
          ],
          [
           85
          ],
          [
           82
          ],
          [
           99
          ],
          [
           49
          ],
          [
           100
          ],
          [
           71
          ],
          [
           58
          ],
          [
           60
          ],
          [
           70
          ],
          [
           74
          ],
          [
           62
          ],
          [
           97
          ],
          [
           83
          ],
          [
           100
          ],
          [
           100
          ],
          [
           52
          ],
          [
           65
          ],
          [
           51
          ],
          [
           91
          ],
          [
           99
          ],
          [
           85
          ],
          [
           100
          ],
          [
           60
          ],
          [
           86
          ],
          [
           80
          ],
          [
           70
          ],
          [
           100
          ],
          [
           67
          ],
          [
           83
          ],
          [
           98
          ],
          [
           90
          ],
          [
           100
          ],
          [
           100
          ],
          [
           100
          ],
          [
           100
          ],
          [
           26
          ],
          [
           99
          ],
          [
           100
          ],
          [
           93
          ],
          [
           87
          ],
          [
           92
          ],
          [
           84
          ],
          [
           94
          ],
          [
           82
          ],
          [
           70
          ],
          [
           99
          ],
          [
           78
          ],
          [
           61
          ],
          [
           91
          ],
          [
           71
          ],
          [
           100
          ],
          [
           60
          ],
          [
           80
          ],
          [
           100
          ],
          [
           86
          ],
          [
           54
          ],
          [
           88
          ],
          [
           77
          ],
          [
           46
          ],
          [
           85
          ],
          [
           93
          ],
          [
           74
          ],
          [
           62
          ],
          [
           58
          ],
          [
           27
          ],
          [
           100
          ],
          [
           97
          ],
          [
           73
          ],
          [
           73
          ],
          [
           100
          ],
          [
           0
          ],
          [
           75
          ],
          [
           94
          ],
          [
           100
          ],
          [
           94
          ],
          [
           86
          ],
          [
           100
          ],
          [
           84
          ],
          [
           100
          ],
          [
           71
          ],
          [
           70
          ],
          [
           79
          ],
          [
           98
          ],
          [
           100
          ],
          [
           2
          ],
          [
           100
          ],
          [
           90
          ],
          [
           100
          ],
          [
           74
          ],
          [
           100
          ],
          [
           75
          ],
          [
           55
          ],
          [
           89
          ],
          [
           100
          ],
          [
           83
          ],
          [
           87
          ],
          [
           100
          ],
          [
           93
          ],
          [
           97
          ],
          [
           93
          ],
          [
           90
          ],
          [
           100
          ],
          [
           63
          ],
          [
           84
          ],
          [
           85
          ],
          [
           61
          ],
          [
           72
          ],
          [
           99
          ],
          [
           95
          ],
          [
           61
          ],
          [
           100
          ],
          [
           52
          ],
          [
           65
          ],
          [
           100
          ],
          [
           83
          ],
          [
           83
          ],
          [
           81
          ],
          [
           79
          ],
          [
           71
          ],
          [
           70
          ],
          [
           68
          ],
          [
           92
          ],
          [
           75
          ],
          [
           100
          ],
          [
           100
          ],
          [
           59
          ],
          [
           98
          ],
          [
           53
          ],
          [
           98
          ],
          [
           99
          ],
          [
           100
          ],
          [
           82
          ],
          [
           87
          ],
          [
           63
          ],
          [
           83
          ],
          [
           87
          ],
          [
           100
          ],
          [
           84
          ],
          [
           88
          ],
          [
           74
          ],
          [
           94
          ],
          [
           96
          ],
          [
           68
          ],
          [
           48
          ],
          [
           100
          ],
          [
           100
          ],
          [
           71
          ],
          [
           63
          ],
          [
           61
          ],
          [
           62
          ],
          [
           100
          ],
          [
           79
          ],
          [
           59
          ],
          [
           96
          ],
          [
           91
          ],
          [
           46
          ],
          [
           100
          ],
          [
           60
          ],
          [
           94
          ],
          [
           75
          ],
          [
           100
          ],
          [
           67
          ],
          [
           68
          ],
          [
           90
          ],
          [
           55
          ],
          [
           52
          ],
          [
           82
          ],
          [
           65
          ],
          [
           74
          ],
          [
           74
          ],
          [
           75
          ],
          [
           87
          ],
          [
           59
          ],
          [
           64
          ],
          [
           74
          ],
          [
           68
          ],
          [
           53
          ],
          [
           74
          ],
          [
           100
          ],
          [
           95
          ],
          [
           72
          ],
          [
           78
          ],
          [
           88
          ],
          [
           60
          ],
          [
           87
          ],
          [
           100
          ],
          [
           55
          ],
          [
           63
          ],
          [
           74
          ],
          [
           52
          ],
          [
           100
          ],
          [
           95
          ],
          [
           71
          ],
          [
           78
          ],
          [
           100
          ],
          [
           91
          ],
          [
           99
          ],
          [
           94
          ],
          [
           100
          ],
          [
           100
          ],
          [
           73
          ],
          [
           100
          ],
          [
           86
          ],
          [
           100
          ],
          [
           88
          ],
          [
           100
          ],
          [
           2
          ]
         ],
         "hoverlabel": {
          "namelength": 0
         },
         "hovertemplate": "<b>%{hovertext}</b><br><br>Score=%{customdata[0]}<br>lat=%{lat}<br>lon=%{lon}",
         "hovertext": [
          "Birmingham AL",
          "Columbus GA",
          "Dothan AL",
          "Huntsville-Decatur (Florence) AL",
          "Meridian MS",
          "Mobile AL-Pensacola (Ft. Walton Beach) FL",
          "Montgomery (Selma) AL",
          "Anchorage AK",
          "Fairbanks AK",
          "Juneau AK",
          "Phoenix AZ",
          "Tucson (Sierra Vista) AZ",
          "Yuma AZ-El Centro CA",
          "Ft. Smith-Fayetteville-Springdale-Rogers AR",
          "Jonesboro AR",
          "Little Rock-Pine Bluff AR",
          "Memphis TN",
          "Monroe LA-El Dorado AR",
          "Springfield MO",
          "Bakersfield CA",
          "Chico-Redding CA",
          "Eureka CA",
          "Fresno-Visalia CA",
          "Los Angeles CA",
          "Medford-Klamath Falls OR",
          "Monterey-Salinas CA",
          "Palm Springs CA",
          "Reno NV",
          "Sacramento-Stockton-Modesto CA",
          "San Diego CA",
          "San Francisco-Oakland-San Jose CA",
          "Santa Barbara-Santa Maria-San Luis Obispo CA",
          "Yuma AZ-El Centro CA",
          "Colorado Springs-Pueblo CO",
          "Denver CO",
          "Grand Junction-Montrose CO",
          "Hartford & New Haven CT",
          "Philadelphia PA",
          "Salisbury MD",
          "Ft. Myers-Naples FL",
          "Gainesville FL",
          "Jacksonville FL",
          "Miami-Ft. Lauderdale FL",
          "Mobile AL-Pensacola (Ft. Walton Beach) FL",
          "Orlando-Daytona Beach-Melbourne FL",
          "Panama City FL",
          "Tallahassee FL-Thomasville GA",
          "Tampa-St. Petersburg (Sarasota) FL",
          "West Palm Beach-Ft. Pierce FL",
          "Albany GA",
          "Atlanta GA",
          "Augusta GA",
          "Chattanooga TN",
          "Columbus GA",
          "Dothan AL",
          "Jacksonville FL",
          "Macon GA",
          "Savannah GA",
          "Tallahassee FL-Thomasville GA",
          "Honolulu HI",
          "Boise ID",
          "Idaho Falls-Pocatello ID",
          "Spokane WA",
          "Twin Falls ID",
          "Champaign & Springfield-Decatur IL",
          "Chicago IL",
          "Davenport IA-Rock Island-Moline IL",
          "Evansville IN",
          "Paducah KY-Cape Girardeau MO-Harrisburg-Mount Vernon IL",
          "Peoria-Bloomington IL",
          "Rockford IL",
          "St. Louis MO",
          "Chicago IL",
          "Cincinnati OH",
          "Evansville IN",
          "Ft. Wayne IN",
          "Indianapolis IN",
          "Lafayette IN",
          "Louisville KY",
          "South Bend-Elkhart IN",
          "Cedar Rapids-Waterloo-Iowa City & Dubuque IA",
          "Davenport IA-Rock Island-Moline IL",
          "Des Moines-Ames IA",
          "Omaha NE",
          "Ottumwa IA-Kirksville MO",
          "Rochester MN-Mason City IA-Austin MN",
          "Sioux City IA",
          "Joplin MO-Pittsburg KS",
          "Kansas City MO",
          "St. Joseph MO",
          "Topeka KS",
          "Wichita-Hutchinson KS",
          "Bowling Green KY",
          "Charleston-Huntington WV",
          "Cincinnati OH",
          "Evansville IN",
          "Knoxville TN",
          "Lexington KY",
          "Louisville KY",
          "Nashville TN",
          "Tri-Cities TN-VA",
          "Alexandria LA",
          "Baton Rouge LA",
          "Lafayette LA",
          "Lake Charles LA",
          "Monroe LA-El Dorado AR",
          "New Orleans LA",
          "Bangor ME",
          "Portland-Auburn ME",
          "Presque Isle ME",
          "Baltimore MD",
          "Salisbury MD",
          "Boston MA-Manchester NH",
          "Providence RI-New Bedford MA",
          "Springfield-Holyoke MA",
          "Alpena MI",
          "Detroit MI",
          "Flint-Saginaw-Bay City MI",
          "Grand Rapids-Kalamazoo-Battle Creek MI",
          "Lansing MI",
          "Marquette MI",
          "South Bend-Elkhart IN",
          "Toledo OH",
          "Traverse City-Cadillac MI",
          "Duluth MN-Superior WI",
          "Fargo-Valley City ND",
          "La Crosse-Eau Claire WI",
          "Mankato MN",
          "Minneapolis-St. Paul MN",
          "Rochester MN-Mason City IA-Austin MN",
          "Baton Rouge LA",
          "Biloxi-Gulfport MS",
          "Columbus-Tupelo-West Point MS",
          "Greenwood-Greenville MS",
          "Hattiesburg-Laurel MS",
          "Jackson MS",
          "Memphis TN",
          "Meridian MS",
          "Columbia-Jefferson City MO",
          "Joplin MO-Pittsburg KS",
          "Kansas City MO",
          "Ottumwa IA-Kirksville MO",
          "Paducah KY-Cape Girardeau MO-Harrisburg-Mount Vernon IL",
          "Springfield MO",
          "St. Joseph MO",
          "St. Louis MO",
          "Billings, MT",
          "Butte-Bozeman MT",
          "Glendive MT",
          "Great Falls MT",
          "Helena MT",
          "Minot-Bismarck-Dickinson(Williston) ND",
          "Missoula MT",
          "Cheyenne WY-Scottsbluff NE",
          "Denver CO",
          "Lincoln & Hastings-Kearney NE",
          "North Platte NE",
          "Omaha NE",
          "Sioux City IA",
          "Sioux Falls(Mitchell) SD",
          "Las Vegas NV",
          "Reno NV",
          "Salt Lake City UT",
          "Boston MA-Manchester NH",
          "Portland-Auburn ME",
          "New York NY",
          "Philadelphia PA",
          "Albuquerque-Santa Fe NM",
          "Amarillo TX",
          "El Paso TX",
          "Albany-Schenectady-Troy NY",
          "Binghamton NY",
          "Buffalo NY",
          "Elmira NY",
          "New York NY",
          "Rochester NY",
          "Syracuse NY",
          "Utica NY",
          "Watertown NY",
          "Charlotte NC",
          "Florence-Myrtle Beach SC",
          "Greensboro-High Point-Winston Salem NC",
          "Greenville-New Bern-Washington NC",
          "Greenville-Spartanburg SC-Asheville NC-Anderson SC",
          "Norfolk-Portsmouth-Newport News VA",
          "Raleigh-Durham (Fayetteville) NC",
          "Wilmington NC",
          "Fargo-Valley City ND",
          "Minot-Bismarck-Dickinson(Williston) ND",
          "Charleston-Huntington WV",
          "Cincinnati OH",
          "Cleveland-Akron (Canton) OH",
          "Columbus OH",
          "Dayton OH",
          "Ft. Wayne IN",
          "Lima OH",
          "Parkersburg WV",
          "Toledo OH",
          "Youngstown OH",
          "Zanesville OH",
          "Amarillo TX",
          "Ft. Smith-Fayetteville-Springdale-Rogers AR",
          "Oklahoma City OK",
          "Sherman TX-Ada OK",
          "Tulsa OK",
          "Wichita Falls TX & Lawton OK",
          "Bend OR",
          "Boise ID",
          "Eugene OR",
          "Medford-Klamath Falls OR",
          "Portland OR",
          "Yakima-Pasco-Richland-Kennewick WA",
          "Buffalo NY",
          "Elmira NY",
          "Erie PA",
          "Harrisburg-Lancaster-Lebanon-York PA",
          "Johnstown-Altoona PA",
          "Philadelphia PA",
          "Pittsburgh PA",
          "Wilkes Barre-Scranton PA",
          "Youngstown OH",
          "Augusta GA",
          "Charleston SC",
          "Charlotte NC",
          "Columbia SC",
          "Florence-Myrtle Beach SC",
          "Greenville-Spartanburg SC-Asheville NC-Anderson SC",
          "Savannah GA",
          "Rapid City SD",
          "Sioux Falls(Mitchell) SD",
          "Chattanooga TN",
          "Jackson TN",
          "Knoxville TN",
          "Memphis TN",
          "Nashville TN",
          "Tri-Cities TN-VA",
          "Abilene-Sweetwater TX",
          "Amarillo TX",
          "Austin TX",
          "Beaumont-Port Arthur TX",
          "Corpus Christi TX",
          "Dallas-Ft. Worth TX",
          "El Paso TX",
          "Harlingen-Weslaco-Brownsville-McAllen TX",
          "Houston TX",
          "Laredo TX",
          "Lubbock TX",
          "Odessa-Midland TX",
          "San Angelo TX",
          "San Antonio TX",
          "Sherman TX-Ada OK",
          "Tyler-Longview(Lufkin & Nacogdoches) TX",
          "Victoria TX",
          "Waco-Temple-Bryan TX",
          "Wichita Falls TX & Lawton OK",
          "Bluefield-Beckley-Oak Hill WV",
          "Charlottesville VA",
          "Harrisonburg VA",
          "Norfolk-Portsmouth-Newport News VA",
          "Richmond-Petersburg VA",
          "Roanoke-Lynchburg VA",
          "Tri-Cities TN-VA",
          "Portland OR",
          "Seattle-Tacoma WA",
          "Spokane WA",
          "Yakima-Pasco-Richland-Kennewick WA",
          "Bluefield-Beckley-Oak Hill WV",
          "Charleston-Huntington WV",
          "Clarksburg-Weston WV",
          "Harrisonburg VA",
          "Parkersburg WV",
          "Duluth MN-Superior WI",
          "Green Bay-Appleton WI",
          "La Crosse-Eau Claire WI",
          "Madison WI",
          "Milwaukee WI",
          "Minneapolis-St. Paul MN",
          "Wausau-Rhinelander WI",
          "Billings, MT",
          "Casper-Riverton WY",
          "Cheyenne WY-Scottsbluff NE",
          "Denver CO",
          "Idaho Falls-Pocatello ID",
          "Rapid City SD",
          "Salt Lake City UT"
         ],
         "lat": [
          33.570499,
          43.1830762,
          31.2237434,
          33.561968,
          39.695040500000005,
          28.06365535,
          32.412397999999996,
          61.2163129,
          64.837845,
          58.30194960000001,
          33.448586600000006,
          32.25346,
          32.665135,
          35.3872218,
          35.8428646,
          34.7464809,
          35.1490215,
          33.215303999999996,
          37.2166779,
          35.3738712,
          39.757187200000004,
          45.498527100000004,
          36.756176200000006,
          34.0536909,
          42.326418100000005,
          36.6744117,
          33.8246269,
          39.529270000000004,
          38.5815719,
          32.7174209,
          45.4149778,
          45.536193299999994,
          32.665135,
          38.8339578,
          39.7348381,
          39.063956,
          41.763709999999996,
          39.9527237,
          38.3662114,
          26.325796899999997,
          29.67357765,
          30.3321838,
          26.0917308,
          28.06365535,
          28.5479786,
          30.1600827,
          30.533356199999997,
          27.951849100000004,
          26.7153425,
          51.519091700000004,
          33.749098700000005,
          33.470971399999996,
          35.0457219,
          43.1830762,
          31.2237434,
          30.3321838,
          32.8406946,
          43.4129206,
          30.533356199999997,
          21.304547,
          43.6166163,
          43.4935245,
          47.6579425,
          42.5704219,
          40.1125774,
          41.875561600000005,
          41.5236436,
          4.5777639,
          37.0833893,
          40.490697999999995,
          42.2713945,
          38.6268039,
          41.875561600000005,
          39.1014537,
          4.5777639,
          41.0799898,
          39.7683331,
          40.4167022,
          38.254237599999996,
          41.68338129999999,
          41.9758872,
          41.5236436,
          41.8090275,
          41.258745899999994,
          41.0135903,
          44.02343870000001,
          42.4966815,
          37.084179999999996,
          39.100105,
          39.7686055,
          39.049011,
          35.636801,
          36.990319899999996,
          38.4121014,
          39.1014537,
          4.5777639,
          35.960394799999996,
          38.0464066,
          38.254237599999996,
          36.1622296,
          46.2306739,
          31.199004,
          30.445959600000002,
          30.2240897,
          30.226594899999995,
          33.215303999999996,
          29.949932300000004,
          29.0659229,
          44.0978509,
          46.681478999999996,
          39.2908816,
          38.3662114,
          42.273947,
          41.8239891,
          42.2417576,
          45.01761810000001,
          42.331550899999996,
          43.0171773,
          42.91424129999999,
          42.73377120000001,
          46.4481521,
          41.68338129999999,
          41.678675399999996,
          44.275838799999995,
          46.7599265,
          46.876138,
          43.8014053,
          44.163466299999996,
          44.9772995,
          44.02343870000001,
          30.445959600000002,
          30.40711375,
          43.336572499999996,
          39.59493885,
          31.327118900000002,
          45.44924535,
          35.1490215,
          39.695040500000005,
          38.951883,
          37.084179999999996,
          39.100105,
          41.0135903,
          37.0833893,
          37.2166779,
          39.7686055,
          38.6268039,
          45.78749570000001,
          45.421399,
          47.105290000000004,
          47.5048851,
          46.592712,
          48.23251,
          46.8700801,
          34.1712252,
          39.7348381,
          40.56902635,
          41.1238873,
          41.258745899999994,
          42.4966815,
          43.536388,
          36.1662859,
          39.529270000000004,
          40.7670126,
          42.273947,
          44.0978509,
          40.7127281,
          39.9527237,
          35.0841034,
          35.2072185,
          31.760037199999996,
          42.7373,
          42.096968,
          42.8867166,
          42.089796500000006,
          40.7127281,
          43.157284999999995,
          43.0481221,
          43.100903100000004,
          43.9747838,
          35.2270869,
          41.204010100000005,
          36.0726355,
          35.612660999999996,
          34.851354,
          36.846292299999995,
          35.7803977,
          34.2257282,
          46.876138,
          48.23251,
          38.4121014,
          39.1014537,
          41.2278419,
          39.9622601,
          39.758947799999994,
          41.0799898,
          40.7399785,
          39.2699565,
          41.678675399999996,
          41.1035786,
          39.9403453,
          35.2072185,
          35.3872218,
          35.4729886,
          36.5012047,
          36.1556805,
          33.930828000000005,
          44.058172799999994,
          43.6166163,
          44.0505054,
          42.326418100000005,
          45.5202471,
          46.2591683,
          42.8867166,
          42.089796500000006,
          42.129471200000005,
          40.266310700000005,
          40.3267407,
          39.9527237,
          40.4416941,
          41.2464824,
          41.1035786,
          33.470971399999996,
          32.7876012,
          35.2270869,
          34.000749299999995,
          41.204010100000005,
          34.851354,
          43.4129206,
          44.081176,
          43.536388,
          35.0457219,
          35.6144446,
          35.960394799999996,
          35.1490215,
          36.1622296,
          46.2306739,
          32.44645,
          35.2072185,
          30.2711286,
          29.948825,
          27.8002542,
          32.759907500000004,
          31.760037199999996,
          26.1908241,
          29.7589382,
          27.519984100000002,
          33.5778631,
          31.906186699999996,
          31.464835700000002,
          29.424600199999997,
          36.5012047,
          32.351260100000005,
          28.802644300000004,
          30.681537,
          33.930828000000005,
          37.2698395,
          38.029306,
          38.4493315,
          36.846292299999995,
          17.985284600000004,
          37.273821500000004,
          46.2306739,
          45.5202471,
          47.447567299999996,
          47.6579425,
          46.2591683,
          37.2698395,
          38.4121014,
          39.2806451,
          38.4493315,
          39.2699565,
          46.7599265,
          51.666286799999995,
          43.8014053,
          43.074760999999995,
          43.0349931,
          44.9772995,
          44.95960170000001,
          45.78749570000001,
          33.9392689,
          34.1712252,
          39.7348381,
          43.4935245,
          44.081176,
          40.7670126
         ],
         "legendgroup": "",
         "lon": [
          -86.765783,
          -79.8147518,
          -85.39339059999999,
          -86.79881400000001,
          -89.1217469,
          -80.62182115,
          -87.032556,
          -149.8948523,
          -147.716675,
          -134.419734,
          -112.0773456,
          -110.91178899999998,
          -114.47603159999998,
          -94.4248983,
          -90.7034522,
          -92.2895948,
          -90.0516285,
          -92.638577,
          -93.2920373,
          -119.01946389999999,
          -121.8301977,
          -62.6816736,
          -119.4751227,
          -118.2427666,
          -122.8718605,
          -121.6550372,
          -116.54030300000001,
          -119.8136744,
          -121.49439960000001,
          -117.16277140000001,
          -72.74939599999999,
          -73.6077401,
          -114.47603159999998,
          -104.8253485,
          -104.9653271,
          -108.5507317,
          -72.685097,
          -75.16352619999999,
          -75.60088809999999,
          -81.7766479,
          -82.3233746,
          -81.655651,
          -80.13593979999999,
          -80.62182115,
          -81.41278419,
          -85.6545729,
          -84.2328667,
          -82.45639720000001,
          -80.0533746,
          -2.546169,
          -84.39018490000001,
          -81.9748429,
          -85.3094883,
          -79.8147518,
          -85.39339059999999,
          -81.655651,
          -83.6324022,
          -79.70282759999999,
          -84.2328667,
          -157.8556764,
          -116.20088600000001,
          -112.0400919,
          -117.42122649999999,
          -114.46031709999998,
          -88.2429781,
          -87.6244212,
          -90.57763680000001,
          -7.647248599999999,
          -88.6000478,
          -89.061913,
          -89.09396600000001,
          -90.1994097,
          -87.6244212,
          -84.5124602,
          -7.647248599999999,
          -85.13860150000001,
          -86.1583502,
          -86.8752869,
          -85.759407,
          -86.2500066,
          -91.6704053,
          -90.57763680000001,
          -93.6149176,
          -95.93837579999999,
          -92.41492990000002,
          -92.46301820000001,
          -96.4058782,
          -94.51323000000001,
          -94.5781416,
          -94.8466322,
          -95.67755600000001,
          -101.62249200000001,
          -86.4436018,
          -82.42871679999999,
          -84.5124602,
          -7.647248599999999,
          -83.92102609999999,
          -84.4970393,
          -85.759407,
          -86.7743531,
          -119.09210060000001,
          29.894378000000003,
          -91.18738,
          -92.0198427,
          -93.21737590000001,
          -92.638577,
          -90.0701156,
          -110.97133000000001,
          -70.2311655,
          -68.016357,
          -76.610759,
          -75.60088809999999,
          -71.076741,
          -71.4128343,
          -72.64786840000001,
          -83.6670019,
          -83.04664029999999,
          -83.7236024,
          -85.533004,
          -84.5553805,
          -87.6305899,
          -86.2500066,
          -83.51272829999999,
          -85.71367459999999,
          -92.1340655,
          -96.88384640000001,
          -91.2395429,
          -93.9993505,
          -93.2654692,
          -92.46301820000001,
          -91.18738,
          -89.07143302,
          -89.01936009999999,
          -86.12237862,
          -89.2903392,
          -122.7154051,
          -90.0516285,
          -89.1217469,
          -92.3337366,
          -94.51323000000001,
          -94.5781416,
          -92.41492990000002,
          -88.6000478,
          -93.2920373,
          -94.8466322,
          -90.1994097,
          -108.49606999999999,
          -111.06981100000002,
          -104.71246,
          -111.2918908,
          -112.03610900000001,
          -101.296273,
          -113.99527959999999,
          -118.8433527,
          -104.9653271,
          -98.39126256,
          -100.7654232,
          -95.93837579999999,
          -96.4058782,
          -96.731667,
          -115.149225,
          -119.8136744,
          -111.89043079999999,
          -71.076741,
          -70.2311655,
          -74.0060152,
          -75.16352619999999,
          -106.6509851,
          -101.83382459999999,
          -106.48728700000001,
          -73.724799,
          -75.91434100000001,
          -78.87839220000001,
          -76.8077338,
          -74.0060152,
          -77.615214,
          -76.1474244,
          -75.2326641,
          -75.91075649999999,
          -80.8431268,
          -73.0970039,
          -79.79197540000001,
          -77.3663538,
          -82.3984882,
          -76.2929252,
          -78.63909890000001,
          -77.9447107,
          -96.88384640000001,
          -101.296273,
          -82.42871679999999,
          -84.5124602,
          -81.4910108,
          -83.00070649999999,
          -84.1916069,
          -85.13860150000001,
          -84.105006,
          -81.5506916,
          -83.51272829999999,
          -80.6520161,
          -82.01319240000001,
          -101.83382459999999,
          -94.4248983,
          -97.5170536,
          -101.7637194,
          -95.9929113,
          -98.484879,
          -121.31530959999999,
          -116.20088600000001,
          -123.09505060000001,
          -122.8718605,
          -122.6741949,
          -119.29044009999998,
          -78.87839220000001,
          -76.8077338,
          -80.0852695,
          -76.8861122,
          -78.9219698,
          -75.16352619999999,
          -79.99008609999998,
          -75.8817316,
          -80.6520161,
          -81.9748429,
          -79.9402728,
          -80.8431268,
          -81.03433129999999,
          -73.0970039,
          -82.3984882,
          -79.70282759999999,
          -103.22800600000001,
          -96.731667,
          -85.3094883,
          -88.8177418,
          -83.92102609999999,
          -90.0516285,
          -86.7743531,
          -119.09210060000001,
          -99.7475905,
          -101.83382459999999,
          -97.7436995,
          -93.980509,
          -97.3955744,
          -97.1735626,
          -106.48728700000001,
          -97.69597940000001,
          -95.36769740000001,
          -99.49537640000001,
          -101.85516650000001,
          -102.2839569,
          -100.43984420000001,
          -98.4951405,
          -101.7637194,
          -95.3010624,
          -96.9766308,
          -96.35646650000001,
          -98.484879,
          -81.2223195,
          -78.4766781,
          -78.8688833,
          -76.2929252,
          -76.58718470000001,
          -79.96020215,
          -119.09210060000001,
          -122.6741949,
          -122.3080159,
          -117.42122649999999,
          -119.29044009999998,
          -81.2223195,
          -82.42871679999999,
          -80.34453409999999,
          -78.8688833,
          -81.5506916,
          -92.1340655,
          -1.3428908000000002,
          -91.2395429,
          -89.3837613,
          -87.92249699999999,
          -93.2654692,
          -89.6298239,
          -108.49606999999999,
          -83.65261240000001,
          -118.8433527,
          -104.9653271,
          -112.0400919,
          -103.22800600000001,
          -111.89043079999999
         ],
         "marker": {
          "color": "#636efa",
          "size": [
           92,
           46,
           88,
           100,
           85,
           43,
           61,
           79,
           93,
           100,
           100,
           77,
           30,
           100,
           98,
           90,
           46,
           67,
           100,
           50,
           100,
           66,
           49,
           87,
           82,
           68,
           57,
           100,
           76,
           84,
           81,
           89,
           30,
           88,
           100,
           100,
           100,
           74,
           100,
           82,
           84,
           68,
           96,
           43,
           100,
           89,
           46,
           94,
           77,
           64,
           100,
           48,
           59,
           46,
           88,
           68,
           81,
           62,
           46,
           100,
           99,
           88,
           55,
           100,
           78,
           100,
           49,
           51,
           27,
           72,
           79,
           73,
           100,
           65,
           51,
           81,
           100,
           100,
           85,
           82,
           99,
           49,
           100,
           71,
           58,
           60,
           70,
           74,
           62,
           97,
           83,
           100,
           100,
           52,
           65,
           51,
           91,
           99,
           85,
           100,
           60,
           86,
           80,
           70,
           100,
           67,
           83,
           98,
           90,
           100,
           100,
           100,
           100,
           26,
           99,
           100,
           93,
           87,
           92,
           84,
           94,
           82,
           70,
           99,
           78,
           61,
           91,
           71,
           100,
           60,
           80,
           100,
           86,
           54,
           88,
           77,
           46,
           85,
           93,
           74,
           62,
           58,
           27,
           100,
           97,
           73,
           73,
           100,
           0,
           75,
           94,
           100,
           94,
           86,
           100,
           84,
           100,
           71,
           70,
           79,
           98,
           100,
           2,
           100,
           90,
           100,
           74,
           100,
           75,
           55,
           89,
           100,
           83,
           87,
           100,
           93,
           97,
           93,
           90,
           100,
           63,
           84,
           85,
           61,
           72,
           99,
           95,
           61,
           100,
           52,
           65,
           100,
           83,
           83,
           81,
           79,
           71,
           70,
           68,
           92,
           75,
           100,
           100,
           59,
           98,
           53,
           98,
           99,
           100,
           82,
           87,
           63,
           83,
           87,
           100,
           84,
           88,
           74,
           94,
           96,
           68,
           48,
           100,
           100,
           71,
           63,
           61,
           62,
           100,
           79,
           59,
           96,
           91,
           46,
           100,
           60,
           94,
           75,
           100,
           67,
           68,
           90,
           55,
           52,
           82,
           65,
           74,
           74,
           75,
           87,
           59,
           64,
           74,
           68,
           53,
           74,
           100,
           95,
           72,
           78,
           88,
           60,
           87,
           100,
           55,
           63,
           74,
           52,
           100,
           95,
           71,
           78,
           100,
           91,
           99,
           94,
           100,
           100,
           73,
           100,
           86,
           100,
           88,
           100,
           2
          ],
          "sizemode": "area",
          "sizeref": 1
         },
         "mode": "markers",
         "name": "",
         "showlegend": false,
         "subplot": "mapbox",
         "type": "scattermapbox"
        }
       ],
       "layout": {
        "height": 300,
        "legend": {
         "itemsizing": "constant",
         "tracegroupgap": 0
        },
        "mapbox": {
         "center": {
          "lat": 38.43315610789474,
          "lon": -91.03791632645614
         },
         "domain": {
          "x": [
           0,
           1
          ],
          "y": [
           0,
           1
          ]
         },
         "style": "carto-positron",
         "zoom": 3
        },
        "margin": {
         "b": 0,
         "l": 0,
         "r": 0,
         "t": 0
        },
        "template": {
         "data": {
          "bar": [
           {
            "error_x": {
             "color": "#2a3f5f"
            },
            "error_y": {
             "color": "#2a3f5f"
            },
            "marker": {
             "line": {
              "color": "#E5ECF6",
              "width": 0.5
             }
            },
            "type": "bar"
           }
          ],
          "barpolar": [
           {
            "marker": {
             "line": {
              "color": "#E5ECF6",
              "width": 0.5
             }
            },
            "type": "barpolar"
           }
          ],
          "carpet": [
           {
            "aaxis": {
             "endlinecolor": "#2a3f5f",
             "gridcolor": "white",
             "linecolor": "white",
             "minorgridcolor": "white",
             "startlinecolor": "#2a3f5f"
            },
            "baxis": {
             "endlinecolor": "#2a3f5f",
             "gridcolor": "white",
             "linecolor": "white",
             "minorgridcolor": "white",
             "startlinecolor": "#2a3f5f"
            },
            "type": "carpet"
           }
          ],
          "choropleth": [
           {
            "colorbar": {
             "outlinewidth": 0,
             "ticks": ""
            },
            "type": "choropleth"
           }
          ],
          "contour": [
           {
            "colorbar": {
             "outlinewidth": 0,
             "ticks": ""
            },
            "colorscale": [
             [
              0,
              "#0d0887"
             ],
             [
              0.1111111111111111,
              "#46039f"
             ],
             [
              0.2222222222222222,
              "#7201a8"
             ],
             [
              0.3333333333333333,
              "#9c179e"
             ],
             [
              0.4444444444444444,
              "#bd3786"
             ],
             [
              0.5555555555555556,
              "#d8576b"
             ],
             [
              0.6666666666666666,
              "#ed7953"
             ],
             [
              0.7777777777777778,
              "#fb9f3a"
             ],
             [
              0.8888888888888888,
              "#fdca26"
             ],
             [
              1,
              "#f0f921"
             ]
            ],
            "type": "contour"
           }
          ],
          "contourcarpet": [
           {
            "colorbar": {
             "outlinewidth": 0,
             "ticks": ""
            },
            "type": "contourcarpet"
           }
          ],
          "heatmap": [
           {
            "colorbar": {
             "outlinewidth": 0,
             "ticks": ""
            },
            "colorscale": [
             [
              0,
              "#0d0887"
             ],
             [
              0.1111111111111111,
              "#46039f"
             ],
             [
              0.2222222222222222,
              "#7201a8"
             ],
             [
              0.3333333333333333,
              "#9c179e"
             ],
             [
              0.4444444444444444,
              "#bd3786"
             ],
             [
              0.5555555555555556,
              "#d8576b"
             ],
             [
              0.6666666666666666,
              "#ed7953"
             ],
             [
              0.7777777777777778,
              "#fb9f3a"
             ],
             [
              0.8888888888888888,
              "#fdca26"
             ],
             [
              1,
              "#f0f921"
             ]
            ],
            "type": "heatmap"
           }
          ],
          "heatmapgl": [
           {
            "colorbar": {
             "outlinewidth": 0,
             "ticks": ""
            },
            "colorscale": [
             [
              0,
              "#0d0887"
             ],
             [
              0.1111111111111111,
              "#46039f"
             ],
             [
              0.2222222222222222,
              "#7201a8"
             ],
             [
              0.3333333333333333,
              "#9c179e"
             ],
             [
              0.4444444444444444,
              "#bd3786"
             ],
             [
              0.5555555555555556,
              "#d8576b"
             ],
             [
              0.6666666666666666,
              "#ed7953"
             ],
             [
              0.7777777777777778,
              "#fb9f3a"
             ],
             [
              0.8888888888888888,
              "#fdca26"
             ],
             [
              1,
              "#f0f921"
             ]
            ],
            "type": "heatmapgl"
           }
          ],
          "histogram": [
           {
            "marker": {
             "colorbar": {
              "outlinewidth": 0,
              "ticks": ""
             }
            },
            "type": "histogram"
           }
          ],
          "histogram2d": [
           {
            "colorbar": {
             "outlinewidth": 0,
             "ticks": ""
            },
            "colorscale": [
             [
              0,
              "#0d0887"
             ],
             [
              0.1111111111111111,
              "#46039f"
             ],
             [
              0.2222222222222222,
              "#7201a8"
             ],
             [
              0.3333333333333333,
              "#9c179e"
             ],
             [
              0.4444444444444444,
              "#bd3786"
             ],
             [
              0.5555555555555556,
              "#d8576b"
             ],
             [
              0.6666666666666666,
              "#ed7953"
             ],
             [
              0.7777777777777778,
              "#fb9f3a"
             ],
             [
              0.8888888888888888,
              "#fdca26"
             ],
             [
              1,
              "#f0f921"
             ]
            ],
            "type": "histogram2d"
           }
          ],
          "histogram2dcontour": [
           {
            "colorbar": {
             "outlinewidth": 0,
             "ticks": ""
            },
            "colorscale": [
             [
              0,
              "#0d0887"
             ],
             [
              0.1111111111111111,
              "#46039f"
             ],
             [
              0.2222222222222222,
              "#7201a8"
             ],
             [
              0.3333333333333333,
              "#9c179e"
             ],
             [
              0.4444444444444444,
              "#bd3786"
             ],
             [
              0.5555555555555556,
              "#d8576b"
             ],
             [
              0.6666666666666666,
              "#ed7953"
             ],
             [
              0.7777777777777778,
              "#fb9f3a"
             ],
             [
              0.8888888888888888,
              "#fdca26"
             ],
             [
              1,
              "#f0f921"
             ]
            ],
            "type": "histogram2dcontour"
           }
          ],
          "mesh3d": [
           {
            "colorbar": {
             "outlinewidth": 0,
             "ticks": ""
            },
            "type": "mesh3d"
           }
          ],
          "parcoords": [
           {
            "line": {
             "colorbar": {
              "outlinewidth": 0,
              "ticks": ""
             }
            },
            "type": "parcoords"
           }
          ],
          "pie": [
           {
            "automargin": true,
            "type": "pie"
           }
          ],
          "scatter": [
           {
            "marker": {
             "colorbar": {
              "outlinewidth": 0,
              "ticks": ""
             }
            },
            "type": "scatter"
           }
          ],
          "scatter3d": [
           {
            "line": {
             "colorbar": {
              "outlinewidth": 0,
              "ticks": ""
             }
            },
            "marker": {
             "colorbar": {
              "outlinewidth": 0,
              "ticks": ""
             }
            },
            "type": "scatter3d"
           }
          ],
          "scattercarpet": [
           {
            "marker": {
             "colorbar": {
              "outlinewidth": 0,
              "ticks": ""
             }
            },
            "type": "scattercarpet"
           }
          ],
          "scattergeo": [
           {
            "marker": {
             "colorbar": {
              "outlinewidth": 0,
              "ticks": ""
             }
            },
            "type": "scattergeo"
           }
          ],
          "scattergl": [
           {
            "marker": {
             "colorbar": {
              "outlinewidth": 0,
              "ticks": ""
             }
            },
            "type": "scattergl"
           }
          ],
          "scattermapbox": [
           {
            "marker": {
             "colorbar": {
              "outlinewidth": 0,
              "ticks": ""
             }
            },
            "type": "scattermapbox"
           }
          ],
          "scatterpolar": [
           {
            "marker": {
             "colorbar": {
              "outlinewidth": 0,
              "ticks": ""
             }
            },
            "type": "scatterpolar"
           }
          ],
          "scatterpolargl": [
           {
            "marker": {
             "colorbar": {
              "outlinewidth": 0,
              "ticks": ""
             }
            },
            "type": "scatterpolargl"
           }
          ],
          "scatterternary": [
           {
            "marker": {
             "colorbar": {
              "outlinewidth": 0,
              "ticks": ""
             }
            },
            "type": "scatterternary"
           }
          ],
          "surface": [
           {
            "colorbar": {
             "outlinewidth": 0,
             "ticks": ""
            },
            "colorscale": [
             [
              0,
              "#0d0887"
             ],
             [
              0.1111111111111111,
              "#46039f"
             ],
             [
              0.2222222222222222,
              "#7201a8"
             ],
             [
              0.3333333333333333,
              "#9c179e"
             ],
             [
              0.4444444444444444,
              "#bd3786"
             ],
             [
              0.5555555555555556,
              "#d8576b"
             ],
             [
              0.6666666666666666,
              "#ed7953"
             ],
             [
              0.7777777777777778,
              "#fb9f3a"
             ],
             [
              0.8888888888888888,
              "#fdca26"
             ],
             [
              1,
              "#f0f921"
             ]
            ],
            "type": "surface"
           }
          ],
          "table": [
           {
            "cells": {
             "fill": {
              "color": "#EBF0F8"
             },
             "line": {
              "color": "white"
             }
            },
            "header": {
             "fill": {
              "color": "#C8D4E3"
             },
             "line": {
              "color": "white"
             }
            },
            "type": "table"
           }
          ]
         },
         "layout": {
          "annotationdefaults": {
           "arrowcolor": "#2a3f5f",
           "arrowhead": 0,
           "arrowwidth": 1
          },
          "coloraxis": {
           "colorbar": {
            "outlinewidth": 0,
            "ticks": ""
           }
          },
          "colorscale": {
           "diverging": [
            [
             0,
             "#8e0152"
            ],
            [
             0.1,
             "#c51b7d"
            ],
            [
             0.2,
             "#de77ae"
            ],
            [
             0.3,
             "#f1b6da"
            ],
            [
             0.4,
             "#fde0ef"
            ],
            [
             0.5,
             "#f7f7f7"
            ],
            [
             0.6,
             "#e6f5d0"
            ],
            [
             0.7,
             "#b8e186"
            ],
            [
             0.8,
             "#7fbc41"
            ],
            [
             0.9,
             "#4d9221"
            ],
            [
             1,
             "#276419"
            ]
           ],
           "sequential": [
            [
             0,
             "#0d0887"
            ],
            [
             0.1111111111111111,
             "#46039f"
            ],
            [
             0.2222222222222222,
             "#7201a8"
            ],
            [
             0.3333333333333333,
             "#9c179e"
            ],
            [
             0.4444444444444444,
             "#bd3786"
            ],
            [
             0.5555555555555556,
             "#d8576b"
            ],
            [
             0.6666666666666666,
             "#ed7953"
            ],
            [
             0.7777777777777778,
             "#fb9f3a"
            ],
            [
             0.8888888888888888,
             "#fdca26"
            ],
            [
             1,
             "#f0f921"
            ]
           ],
           "sequentialminus": [
            [
             0,
             "#0d0887"
            ],
            [
             0.1111111111111111,
             "#46039f"
            ],
            [
             0.2222222222222222,
             "#7201a8"
            ],
            [
             0.3333333333333333,
             "#9c179e"
            ],
            [
             0.4444444444444444,
             "#bd3786"
            ],
            [
             0.5555555555555556,
             "#d8576b"
            ],
            [
             0.6666666666666666,
             "#ed7953"
            ],
            [
             0.7777777777777778,
             "#fb9f3a"
            ],
            [
             0.8888888888888888,
             "#fdca26"
            ],
            [
             1,
             "#f0f921"
            ]
           ]
          },
          "colorway": [
           "#636efa",
           "#EF553B",
           "#00cc96",
           "#ab63fa",
           "#FFA15A",
           "#19d3f3",
           "#FF6692",
           "#B6E880",
           "#FF97FF",
           "#FECB52"
          ],
          "font": {
           "color": "#2a3f5f"
          },
          "geo": {
           "bgcolor": "white",
           "lakecolor": "white",
           "landcolor": "#E5ECF6",
           "showlakes": true,
           "showland": true,
           "subunitcolor": "white"
          },
          "hoverlabel": {
           "align": "left"
          },
          "hovermode": "closest",
          "mapbox": {
           "style": "light"
          },
          "paper_bgcolor": "white",
          "plot_bgcolor": "#E5ECF6",
          "polar": {
           "angularaxis": {
            "gridcolor": "white",
            "linecolor": "white",
            "ticks": ""
           },
           "bgcolor": "#E5ECF6",
           "radialaxis": {
            "gridcolor": "white",
            "linecolor": "white",
            "ticks": ""
           }
          },
          "scene": {
           "xaxis": {
            "backgroundcolor": "#E5ECF6",
            "gridcolor": "white",
            "gridwidth": 2,
            "linecolor": "white",
            "showbackground": true,
            "ticks": "",
            "zerolinecolor": "white"
           },
           "yaxis": {
            "backgroundcolor": "#E5ECF6",
            "gridcolor": "white",
            "gridwidth": 2,
            "linecolor": "white",
            "showbackground": true,
            "ticks": "",
            "zerolinecolor": "white"
           },
           "zaxis": {
            "backgroundcolor": "#E5ECF6",
            "gridcolor": "white",
            "gridwidth": 2,
            "linecolor": "white",
            "showbackground": true,
            "ticks": "",
            "zerolinecolor": "white"
           }
          },
          "shapedefaults": {
           "line": {
            "color": "#2a3f5f"
           }
          },
          "ternary": {
           "aaxis": {
            "gridcolor": "white",
            "linecolor": "white",
            "ticks": ""
           },
           "baxis": {
            "gridcolor": "white",
            "linecolor": "white",
            "ticks": ""
           },
           "bgcolor": "#E5ECF6",
           "caxis": {
            "gridcolor": "white",
            "linecolor": "white",
            "ticks": ""
           }
          },
          "title": {
           "x": 0.05
          },
          "xaxis": {
           "automargin": true,
           "gridcolor": "white",
           "linecolor": "white",
           "ticks": "",
           "title": {
            "standoff": 15
           },
           "zerolinecolor": "white",
           "zerolinewidth": 2
          },
          "yaxis": {
           "automargin": true,
           "gridcolor": "white",
           "linecolor": "white",
           "ticks": "",
           "title": {
            "standoff": 15
           },
           "zerolinecolor": "white",
           "zerolinewidth": 2
          }
         }
        }
       }
      },
      "text/html": [
       "<div>\n",
       "        \n",
       "        \n",
       "            <div id=\"b82bdd4c-9624-46ed-a19a-574a14dd86bc\" class=\"plotly-graph-div\" style=\"height:300px; width:100%;\"></div>\n",
       "            <script type=\"text/javascript\">\n",
       "                require([\"plotly\"], function(Plotly) {\n",
       "                    window.PLOTLYENV=window.PLOTLYENV || {};\n",
       "                    \n",
       "                if (document.getElementById(\"b82bdd4c-9624-46ed-a19a-574a14dd86bc\")) {\n",
       "                    Plotly.newPlot(\n",
       "                        'b82bdd4c-9624-46ed-a19a-574a14dd86bc',\n",
       "                        [{\"customdata\": [[92.0], [46.0], [88.0], [100.0], [85.0], [43.0], [61.0], [79.0], [93.0], [100.0], [100.0], [77.0], [30.0], [100.0], [98.0], [90.0], [46.0], [67.0], [100.0], [50.0], [100.0], [66.0], [49.0], [87.0], [82.0], [68.0], [57.0], [100.0], [76.0], [84.0], [81.0], [89.0], [30.0], [88.0], [100.0], [100.0], [100.0], [74.0], [100.0], [82.0], [84.0], [68.0], [96.0], [43.0], [100.0], [89.0], [46.0], [94.0], [77.0], [64.0], [100.0], [48.0], [59.0], [46.0], [88.0], [68.0], [81.0], [62.0], [46.0], [100.0], [99.0], [88.0], [55.0], [100.0], [78.0], [100.0], [49.0], [51.0], [27.0], [72.0], [79.0], [73.0], [100.0], [65.0], [51.0], [81.0], [100.0], [100.0], [85.0], [82.0], [99.0], [49.0], [100.0], [71.0], [58.0], [60.0], [70.0], [74.0], [62.0], [97.0], [83.0], [100.0], [100.0], [52.0], [65.0], [51.0], [91.0], [99.0], [85.0], [100.0], [60.0], [86.0], [80.0], [70.0], [100.0], [67.0], [83.0], [98.0], [90.0], [100.0], [100.0], [100.0], [100.0], [26.0], [99.0], [100.0], [93.0], [87.0], [92.0], [84.0], [94.0], [82.0], [70.0], [99.0], [78.0], [61.0], [91.0], [71.0], [100.0], [60.0], [80.0], [100.0], [86.0], [54.0], [88.0], [77.0], [46.0], [85.0], [93.0], [74.0], [62.0], [58.0], [27.0], [100.0], [97.0], [73.0], [73.0], [100.0], [0.0], [75.0], [94.0], [100.0], [94.0], [86.0], [100.0], [84.0], [100.0], [71.0], [70.0], [79.0], [98.0], [100.0], [2.0], [100.0], [90.0], [100.0], [74.0], [100.0], [75.0], [55.0], [89.0], [100.0], [83.0], [87.0], [100.0], [93.0], [97.0], [93.0], [90.0], [100.0], [63.0], [84.0], [85.0], [61.0], [72.0], [99.0], [95.0], [61.0], [100.0], [52.0], [65.0], [100.0], [83.0], [83.0], [81.0], [79.0], [71.0], [70.0], [68.0], [92.0], [75.0], [100.0], [100.0], [59.0], [98.0], [53.0], [98.0], [99.0], [100.0], [82.0], [87.0], [63.0], [83.0], [87.0], [100.0], [84.0], [88.0], [74.0], [94.0], [96.0], [68.0], [48.0], [100.0], [100.0], [71.0], [63.0], [61.0], [62.0], [100.0], [79.0], [59.0], [96.0], [91.0], [46.0], [100.0], [60.0], [94.0], [75.0], [100.0], [67.0], [68.0], [90.0], [55.0], [52.0], [82.0], [65.0], [74.0], [74.0], [75.0], [87.0], [59.0], [64.0], [74.0], [68.0], [53.0], [74.0], [100.0], [95.0], [72.0], [78.0], [88.0], [60.0], [87.0], [100.0], [55.0], [63.0], [74.0], [52.0], [100.0], [95.0], [71.0], [78.0], [100.0], [91.0], [99.0], [94.0], [100.0], [100.0], [73.0], [100.0], [86.0], [100.0], [88.0], [100.0], [2.0]], \"hoverlabel\": {\"namelength\": 0}, \"hovertemplate\": \"<b>%{hovertext}</b><br><br>Score=%{customdata[0]}<br>lat=%{lat}<br>lon=%{lon}\", \"hovertext\": [\"Birmingham AL\", \"Columbus GA\", \"Dothan AL\", \"Huntsville-Decatur (Florence) AL\", \"Meridian MS\", \"Mobile AL-Pensacola (Ft. Walton Beach) FL\", \"Montgomery (Selma) AL\", \"Anchorage AK\", \"Fairbanks AK\", \"Juneau AK\", \"Phoenix AZ\", \"Tucson (Sierra Vista) AZ\", \"Yuma AZ-El Centro CA\", \"Ft. Smith-Fayetteville-Springdale-Rogers AR\", \"Jonesboro AR\", \"Little Rock-Pine Bluff AR\", \"Memphis TN\", \"Monroe LA-El Dorado AR\", \"Springfield MO\", \"Bakersfield CA\", \"Chico-Redding CA\", \"Eureka CA\", \"Fresno-Visalia CA\", \"Los Angeles CA\", \"Medford-Klamath Falls OR\", \"Monterey-Salinas CA\", \"Palm Springs CA\", \"Reno NV\", \"Sacramento-Stockton-Modesto CA\", \"San Diego CA\", \"San Francisco-Oakland-San Jose CA\", \"Santa Barbara-Santa Maria-San Luis Obispo CA\", \"Yuma AZ-El Centro CA\", \"Colorado Springs-Pueblo CO\", \"Denver CO\", \"Grand Junction-Montrose CO\", \"Hartford & New Haven CT\", \"Philadelphia PA\", \"Salisbury MD\", \"Ft. Myers-Naples FL\", \"Gainesville FL\", \"Jacksonville FL\", \"Miami-Ft. Lauderdale FL\", \"Mobile AL-Pensacola (Ft. Walton Beach) FL\", \"Orlando-Daytona Beach-Melbourne FL\", \"Panama City FL\", \"Tallahassee FL-Thomasville GA\", \"Tampa-St. Petersburg (Sarasota) FL\", \"West Palm Beach-Ft. Pierce FL\", \"Albany GA\", \"Atlanta GA\", \"Augusta GA\", \"Chattanooga TN\", \"Columbus GA\", \"Dothan AL\", \"Jacksonville FL\", \"Macon GA\", \"Savannah GA\", \"Tallahassee FL-Thomasville GA\", \"Honolulu HI\", \"Boise ID\", \"Idaho Falls-Pocatello ID\", \"Spokane WA\", \"Twin Falls ID\", \"Champaign & Springfield-Decatur IL\", \"Chicago IL\", \"Davenport IA-Rock Island-Moline IL\", \"Evansville IN\", \"Paducah KY-Cape Girardeau MO-Harrisburg-Mount Vernon IL\", \"Peoria-Bloomington IL\", \"Rockford IL\", \"St. Louis MO\", \"Chicago IL\", \"Cincinnati OH\", \"Evansville IN\", \"Ft. Wayne IN\", \"Indianapolis IN\", \"Lafayette IN\", \"Louisville KY\", \"South Bend-Elkhart IN\", \"Cedar Rapids-Waterloo-Iowa City & Dubuque IA\", \"Davenport IA-Rock Island-Moline IL\", \"Des Moines-Ames IA\", \"Omaha NE\", \"Ottumwa IA-Kirksville MO\", \"Rochester MN-Mason City IA-Austin MN\", \"Sioux City IA\", \"Joplin MO-Pittsburg KS\", \"Kansas City MO\", \"St. Joseph MO\", \"Topeka KS\", \"Wichita-Hutchinson KS\", \"Bowling Green KY\", \"Charleston-Huntington WV\", \"Cincinnati OH\", \"Evansville IN\", \"Knoxville TN\", \"Lexington KY\", \"Louisville KY\", \"Nashville TN\", \"Tri-Cities TN-VA\", \"Alexandria LA\", \"Baton Rouge LA\", \"Lafayette LA\", \"Lake Charles LA\", \"Monroe LA-El Dorado AR\", \"New Orleans LA\", \"Bangor ME\", \"Portland-Auburn ME\", \"Presque Isle ME\", \"Baltimore MD\", \"Salisbury MD\", \"Boston MA-Manchester NH\", \"Providence RI-New Bedford MA\", \"Springfield-Holyoke MA\", \"Alpena MI\", \"Detroit MI\", \"Flint-Saginaw-Bay City MI\", \"Grand Rapids-Kalamazoo-Battle Creek MI\", \"Lansing MI\", \"Marquette MI\", \"South Bend-Elkhart IN\", \"Toledo OH\", \"Traverse City-Cadillac MI\", \"Duluth MN-Superior WI\", \"Fargo-Valley City ND\", \"La Crosse-Eau Claire WI\", \"Mankato MN\", \"Minneapolis-St. Paul MN\", \"Rochester MN-Mason City IA-Austin MN\", \"Baton Rouge LA\", \"Biloxi-Gulfport MS\", \"Columbus-Tupelo-West Point MS\", \"Greenwood-Greenville MS\", \"Hattiesburg-Laurel MS\", \"Jackson MS\", \"Memphis TN\", \"Meridian MS\", \"Columbia-Jefferson City MO\", \"Joplin MO-Pittsburg KS\", \"Kansas City MO\", \"Ottumwa IA-Kirksville MO\", \"Paducah KY-Cape Girardeau MO-Harrisburg-Mount Vernon IL\", \"Springfield MO\", \"St. Joseph MO\", \"St. Louis MO\", \"Billings, MT\", \"Butte-Bozeman MT\", \"Glendive MT\", \"Great Falls MT\", \"Helena MT\", \"Minot-Bismarck-Dickinson(Williston) ND\", \"Missoula MT\", \"Cheyenne WY-Scottsbluff NE\", \"Denver CO\", \"Lincoln & Hastings-Kearney NE\", \"North Platte NE\", \"Omaha NE\", \"Sioux City IA\", \"Sioux Falls(Mitchell) SD\", \"Las Vegas NV\", \"Reno NV\", \"Salt Lake City UT\", \"Boston MA-Manchester NH\", \"Portland-Auburn ME\", \"New York NY\", \"Philadelphia PA\", \"Albuquerque-Santa Fe NM\", \"Amarillo TX\", \"El Paso TX\", \"Albany-Schenectady-Troy NY\", \"Binghamton NY\", \"Buffalo NY\", \"Elmira NY\", \"New York NY\", \"Rochester NY\", \"Syracuse NY\", \"Utica NY\", \"Watertown NY\", \"Charlotte NC\", \"Florence-Myrtle Beach SC\", \"Greensboro-High Point-Winston Salem NC\", \"Greenville-New Bern-Washington NC\", \"Greenville-Spartanburg SC-Asheville NC-Anderson SC\", \"Norfolk-Portsmouth-Newport News VA\", \"Raleigh-Durham (Fayetteville) NC\", \"Wilmington NC\", \"Fargo-Valley City ND\", \"Minot-Bismarck-Dickinson(Williston) ND\", \"Charleston-Huntington WV\", \"Cincinnati OH\", \"Cleveland-Akron (Canton) OH\", \"Columbus OH\", \"Dayton OH\", \"Ft. Wayne IN\", \"Lima OH\", \"Parkersburg WV\", \"Toledo OH\", \"Youngstown OH\", \"Zanesville OH\", \"Amarillo TX\", \"Ft. Smith-Fayetteville-Springdale-Rogers AR\", \"Oklahoma City OK\", \"Sherman TX-Ada OK\", \"Tulsa OK\", \"Wichita Falls TX & Lawton OK\", \"Bend OR\", \"Boise ID\", \"Eugene OR\", \"Medford-Klamath Falls OR\", \"Portland OR\", \"Yakima-Pasco-Richland-Kennewick WA\", \"Buffalo NY\", \"Elmira NY\", \"Erie PA\", \"Harrisburg-Lancaster-Lebanon-York PA\", \"Johnstown-Altoona PA\", \"Philadelphia PA\", \"Pittsburgh PA\", \"Wilkes Barre-Scranton PA\", \"Youngstown OH\", \"Augusta GA\", \"Charleston SC\", \"Charlotte NC\", \"Columbia SC\", \"Florence-Myrtle Beach SC\", \"Greenville-Spartanburg SC-Asheville NC-Anderson SC\", \"Savannah GA\", \"Rapid City SD\", \"Sioux Falls(Mitchell) SD\", \"Chattanooga TN\", \"Jackson TN\", \"Knoxville TN\", \"Memphis TN\", \"Nashville TN\", \"Tri-Cities TN-VA\", \"Abilene-Sweetwater TX\", \"Amarillo TX\", \"Austin TX\", \"Beaumont-Port Arthur TX\", \"Corpus Christi TX\", \"Dallas-Ft. Worth TX\", \"El Paso TX\", \"Harlingen-Weslaco-Brownsville-McAllen TX\", \"Houston TX\", \"Laredo TX\", \"Lubbock TX\", \"Odessa-Midland TX\", \"San Angelo TX\", \"San Antonio TX\", \"Sherman TX-Ada OK\", \"Tyler-Longview(Lufkin & Nacogdoches) TX\", \"Victoria TX\", \"Waco-Temple-Bryan TX\", \"Wichita Falls TX & Lawton OK\", \"Bluefield-Beckley-Oak Hill WV\", \"Charlottesville VA\", \"Harrisonburg VA\", \"Norfolk-Portsmouth-Newport News VA\", \"Richmond-Petersburg VA\", \"Roanoke-Lynchburg VA\", \"Tri-Cities TN-VA\", \"Portland OR\", \"Seattle-Tacoma WA\", \"Spokane WA\", \"Yakima-Pasco-Richland-Kennewick WA\", \"Bluefield-Beckley-Oak Hill WV\", \"Charleston-Huntington WV\", \"Clarksburg-Weston WV\", \"Harrisonburg VA\", \"Parkersburg WV\", \"Duluth MN-Superior WI\", \"Green Bay-Appleton WI\", \"La Crosse-Eau Claire WI\", \"Madison WI\", \"Milwaukee WI\", \"Minneapolis-St. Paul MN\", \"Wausau-Rhinelander WI\", \"Billings, MT\", \"Casper-Riverton WY\", \"Cheyenne WY-Scottsbluff NE\", \"Denver CO\", \"Idaho Falls-Pocatello ID\", \"Rapid City SD\", \"Salt Lake City UT\"], \"lat\": [33.570499, 43.1830762, 31.2237434, 33.561968, 39.695040500000005, 28.06365535, 32.412397999999996, 61.2163129, 64.837845, 58.30194960000001, 33.448586600000006, 32.25346, 32.665135, 35.3872218, 35.8428646, 34.7464809, 35.1490215, 33.215303999999996, 37.2166779, 35.3738712, 39.757187200000004, 45.498527100000004, 36.756176200000006, 34.0536909, 42.326418100000005, 36.6744117, 33.8246269, 39.529270000000004, 38.5815719, 32.7174209, 45.4149778, 45.536193299999994, 32.665135, 38.8339578, 39.7348381, 39.063956, 41.763709999999996, 39.9527237, 38.3662114, 26.325796899999997, 29.67357765, 30.3321838, 26.0917308, 28.06365535, 28.5479786, 30.1600827, 30.533356199999997, 27.951849100000004, 26.7153425, 51.519091700000004, 33.749098700000005, 33.470971399999996, 35.0457219, 43.1830762, 31.2237434, 30.3321838, 32.8406946, 43.4129206, 30.533356199999997, 21.304547, 43.6166163, 43.4935245, 47.6579425, 42.5704219, 40.1125774, 41.875561600000005, 41.5236436, 4.5777639, 37.0833893, 40.490697999999995, 42.2713945, 38.6268039, 41.875561600000005, 39.1014537, 4.5777639, 41.0799898, 39.7683331, 40.4167022, 38.254237599999996, 41.68338129999999, 41.9758872, 41.5236436, 41.8090275, 41.258745899999994, 41.0135903, 44.02343870000001, 42.4966815, 37.084179999999996, 39.100105, 39.7686055, 39.049011, 35.636801, 36.990319899999996, 38.4121014, 39.1014537, 4.5777639, 35.960394799999996, 38.0464066, 38.254237599999996, 36.1622296, 46.2306739, 31.199004, 30.445959600000002, 30.2240897, 30.226594899999995, 33.215303999999996, 29.949932300000004, 29.0659229, 44.0978509, 46.681478999999996, 39.2908816, 38.3662114, 42.273947, 41.8239891, 42.2417576, 45.01761810000001, 42.331550899999996, 43.0171773, 42.91424129999999, 42.73377120000001, 46.4481521, 41.68338129999999, 41.678675399999996, 44.275838799999995, 46.7599265, 46.876138, 43.8014053, 44.163466299999996, 44.9772995, 44.02343870000001, 30.445959600000002, 30.40711375, 43.336572499999996, 39.59493885, 31.327118900000002, 45.44924535, 35.1490215, 39.695040500000005, 38.951883, 37.084179999999996, 39.100105, 41.0135903, 37.0833893, 37.2166779, 39.7686055, 38.6268039, 45.78749570000001, 45.421399, 47.105290000000004, 47.5048851, 46.592712, 48.23251, 46.8700801, 34.1712252, 39.7348381, 40.56902635, 41.1238873, 41.258745899999994, 42.4966815, 43.536388, 36.1662859, 39.529270000000004, 40.7670126, 42.273947, 44.0978509, 40.7127281, 39.9527237, 35.0841034, 35.2072185, 31.760037199999996, 42.7373, 42.096968, 42.8867166, 42.089796500000006, 40.7127281, 43.157284999999995, 43.0481221, 43.100903100000004, 43.9747838, 35.2270869, 41.204010100000005, 36.0726355, 35.612660999999996, 34.851354, 36.846292299999995, 35.7803977, 34.2257282, 46.876138, 48.23251, 38.4121014, 39.1014537, 41.2278419, 39.9622601, 39.758947799999994, 41.0799898, 40.7399785, 39.2699565, 41.678675399999996, 41.1035786, 39.9403453, 35.2072185, 35.3872218, 35.4729886, 36.5012047, 36.1556805, 33.930828000000005, 44.058172799999994, 43.6166163, 44.0505054, 42.326418100000005, 45.5202471, 46.2591683, 42.8867166, 42.089796500000006, 42.129471200000005, 40.266310700000005, 40.3267407, 39.9527237, 40.4416941, 41.2464824, 41.1035786, 33.470971399999996, 32.7876012, 35.2270869, 34.000749299999995, 41.204010100000005, 34.851354, 43.4129206, 44.081176, 43.536388, 35.0457219, 35.6144446, 35.960394799999996, 35.1490215, 36.1622296, 46.2306739, 32.44645, 35.2072185, 30.2711286, 29.948825, 27.8002542, 32.759907500000004, 31.760037199999996, 26.1908241, 29.7589382, 27.519984100000002, 33.5778631, 31.906186699999996, 31.464835700000002, 29.424600199999997, 36.5012047, 32.351260100000005, 28.802644300000004, 30.681537, 33.930828000000005, 37.2698395, 38.029306, 38.4493315, 36.846292299999995, 17.985284600000004, 37.273821500000004, 46.2306739, 45.5202471, 47.447567299999996, 47.6579425, 46.2591683, 37.2698395, 38.4121014, 39.2806451, 38.4493315, 39.2699565, 46.7599265, 51.666286799999995, 43.8014053, 43.074760999999995, 43.0349931, 44.9772995, 44.95960170000001, 45.78749570000001, 33.9392689, 34.1712252, 39.7348381, 43.4935245, 44.081176, 40.7670126], \"legendgroup\": \"\", \"lon\": [-86.765783, -79.8147518, -85.39339059999999, -86.79881400000001, -89.1217469, -80.62182115, -87.032556, -149.8948523, -147.716675, -134.419734, -112.0773456, -110.91178899999998, -114.47603159999998, -94.4248983, -90.7034522, -92.2895948, -90.0516285, -92.638577, -93.2920373, -119.01946389999999, -121.8301977, -62.6816736, -119.4751227, -118.2427666, -122.8718605, -121.6550372, -116.54030300000001, -119.8136744, -121.49439960000001, -117.16277140000001, -72.74939599999999, -73.6077401, -114.47603159999998, -104.8253485, -104.9653271, -108.5507317, -72.685097, -75.16352619999999, -75.60088809999999, -81.7766479, -82.3233746, -81.655651, -80.13593979999999, -80.62182115, -81.41278419, -85.6545729, -84.2328667, -82.45639720000001, -80.0533746, -2.546169, -84.39018490000001, -81.9748429, -85.3094883, -79.8147518, -85.39339059999999, -81.655651, -83.6324022, -79.70282759999999, -84.2328667, -157.8556764, -116.20088600000001, -112.0400919, -117.42122649999999, -114.46031709999998, -88.2429781, -87.6244212, -90.57763680000001, -7.647248599999999, -88.6000478, -89.061913, -89.09396600000001, -90.1994097, -87.6244212, -84.5124602, -7.647248599999999, -85.13860150000001, -86.1583502, -86.8752869, -85.759407, -86.2500066, -91.6704053, -90.57763680000001, -93.6149176, -95.93837579999999, -92.41492990000002, -92.46301820000001, -96.4058782, -94.51323000000001, -94.5781416, -94.8466322, -95.67755600000001, -101.62249200000001, -86.4436018, -82.42871679999999, -84.5124602, -7.647248599999999, -83.92102609999999, -84.4970393, -85.759407, -86.7743531, -119.09210060000001, 29.894378000000003, -91.18738, -92.0198427, -93.21737590000001, -92.638577, -90.0701156, -110.97133000000001, -70.2311655, -68.016357, -76.610759, -75.60088809999999, -71.076741, -71.4128343, -72.64786840000001, -83.6670019, -83.04664029999999, -83.7236024, -85.533004, -84.5553805, -87.6305899, -86.2500066, -83.51272829999999, -85.71367459999999, -92.1340655, -96.88384640000001, -91.2395429, -93.9993505, -93.2654692, -92.46301820000001, -91.18738, -89.07143302, -89.01936009999999, -86.12237862, -89.2903392, -122.7154051, -90.0516285, -89.1217469, -92.3337366, -94.51323000000001, -94.5781416, -92.41492990000002, -88.6000478, -93.2920373, -94.8466322, -90.1994097, -108.49606999999999, -111.06981100000002, -104.71246, -111.2918908, -112.03610900000001, -101.296273, -113.99527959999999, -118.8433527, -104.9653271, -98.39126256, -100.7654232, -95.93837579999999, -96.4058782, -96.731667, -115.149225, -119.8136744, -111.89043079999999, -71.076741, -70.2311655, -74.0060152, -75.16352619999999, -106.6509851, -101.83382459999999, -106.48728700000001, -73.724799, -75.91434100000001, -78.87839220000001, -76.8077338, -74.0060152, -77.615214, -76.1474244, -75.2326641, -75.91075649999999, -80.8431268, -73.0970039, -79.79197540000001, -77.3663538, -82.3984882, -76.2929252, -78.63909890000001, -77.9447107, -96.88384640000001, -101.296273, -82.42871679999999, -84.5124602, -81.4910108, -83.00070649999999, -84.1916069, -85.13860150000001, -84.105006, -81.5506916, -83.51272829999999, -80.6520161, -82.01319240000001, -101.83382459999999, -94.4248983, -97.5170536, -101.7637194, -95.9929113, -98.484879, -121.31530959999999, -116.20088600000001, -123.09505060000001, -122.8718605, -122.6741949, -119.29044009999998, -78.87839220000001, -76.8077338, -80.0852695, -76.8861122, -78.9219698, -75.16352619999999, -79.99008609999998, -75.8817316, -80.6520161, -81.9748429, -79.9402728, -80.8431268, -81.03433129999999, -73.0970039, -82.3984882, -79.70282759999999, -103.22800600000001, -96.731667, -85.3094883, -88.8177418, -83.92102609999999, -90.0516285, -86.7743531, -119.09210060000001, -99.7475905, -101.83382459999999, -97.7436995, -93.980509, -97.3955744, -97.1735626, -106.48728700000001, -97.69597940000001, -95.36769740000001, -99.49537640000001, -101.85516650000001, -102.2839569, -100.43984420000001, -98.4951405, -101.7637194, -95.3010624, -96.9766308, -96.35646650000001, -98.484879, -81.2223195, -78.4766781, -78.8688833, -76.2929252, -76.58718470000001, -79.96020215, -119.09210060000001, -122.6741949, -122.3080159, -117.42122649999999, -119.29044009999998, -81.2223195, -82.42871679999999, -80.34453409999999, -78.8688833, -81.5506916, -92.1340655, -1.3428908000000002, -91.2395429, -89.3837613, -87.92249699999999, -93.2654692, -89.6298239, -108.49606999999999, -83.65261240000001, -118.8433527, -104.9653271, -112.0400919, -103.22800600000001, -111.89043079999999], \"marker\": {\"color\": \"#636efa\", \"size\": [92.0, 46.0, 88.0, 100.0, 85.0, 43.0, 61.0, 79.0, 93.0, 100.0, 100.0, 77.0, 30.0, 100.0, 98.0, 90.0, 46.0, 67.0, 100.0, 50.0, 100.0, 66.0, 49.0, 87.0, 82.0, 68.0, 57.0, 100.0, 76.0, 84.0, 81.0, 89.0, 30.0, 88.0, 100.0, 100.0, 100.0, 74.0, 100.0, 82.0, 84.0, 68.0, 96.0, 43.0, 100.0, 89.0, 46.0, 94.0, 77.0, 64.0, 100.0, 48.0, 59.0, 46.0, 88.0, 68.0, 81.0, 62.0, 46.0, 100.0, 99.0, 88.0, 55.0, 100.0, 78.0, 100.0, 49.0, 51.0, 27.0, 72.0, 79.0, 73.0, 100.0, 65.0, 51.0, 81.0, 100.0, 100.0, 85.0, 82.0, 99.0, 49.0, 100.0, 71.0, 58.0, 60.0, 70.0, 74.0, 62.0, 97.0, 83.0, 100.0, 100.0, 52.0, 65.0, 51.0, 91.0, 99.0, 85.0, 100.0, 60.0, 86.0, 80.0, 70.0, 100.0, 67.0, 83.0, 98.0, 90.0, 100.0, 100.0, 100.0, 100.0, 26.0, 99.0, 100.0, 93.0, 87.0, 92.0, 84.0, 94.0, 82.0, 70.0, 99.0, 78.0, 61.0, 91.0, 71.0, 100.0, 60.0, 80.0, 100.0, 86.0, 54.0, 88.0, 77.0, 46.0, 85.0, 93.0, 74.0, 62.0, 58.0, 27.0, 100.0, 97.0, 73.0, 73.0, 100.0, 0.0, 75.0, 94.0, 100.0, 94.0, 86.0, 100.0, 84.0, 100.0, 71.0, 70.0, 79.0, 98.0, 100.0, 2.0, 100.0, 90.0, 100.0, 74.0, 100.0, 75.0, 55.0, 89.0, 100.0, 83.0, 87.0, 100.0, 93.0, 97.0, 93.0, 90.0, 100.0, 63.0, 84.0, 85.0, 61.0, 72.0, 99.0, 95.0, 61.0, 100.0, 52.0, 65.0, 100.0, 83.0, 83.0, 81.0, 79.0, 71.0, 70.0, 68.0, 92.0, 75.0, 100.0, 100.0, 59.0, 98.0, 53.0, 98.0, 99.0, 100.0, 82.0, 87.0, 63.0, 83.0, 87.0, 100.0, 84.0, 88.0, 74.0, 94.0, 96.0, 68.0, 48.0, 100.0, 100.0, 71.0, 63.0, 61.0, 62.0, 100.0, 79.0, 59.0, 96.0, 91.0, 46.0, 100.0, 60.0, 94.0, 75.0, 100.0, 67.0, 68.0, 90.0, 55.0, 52.0, 82.0, 65.0, 74.0, 74.0, 75.0, 87.0, 59.0, 64.0, 74.0, 68.0, 53.0, 74.0, 100.0, 95.0, 72.0, 78.0, 88.0, 60.0, 87.0, 100.0, 55.0, 63.0, 74.0, 52.0, 100.0, 95.0, 71.0, 78.0, 100.0, 91.0, 99.0, 94.0, 100.0, 100.0, 73.0, 100.0, 86.0, 100.0, 88.0, 100.0, 2.0], \"sizemode\": \"area\", \"sizeref\": 1.0}, \"mode\": \"markers\", \"name\": \"\", \"showlegend\": false, \"subplot\": \"mapbox\", \"type\": \"scattermapbox\"}],\n",
       "                        {\"height\": 300, \"legend\": {\"itemsizing\": \"constant\", \"tracegroupgap\": 0}, \"mapbox\": {\"center\": {\"lat\": 38.43315610789474, \"lon\": -91.03791632645614}, \"domain\": {\"x\": [0.0, 1.0], \"y\": [0.0, 1.0]}, \"style\": \"carto-positron\", \"zoom\": 3}, \"margin\": {\"b\": 0, \"l\": 0, \"r\": 0, \"t\": 0}, \"template\": {\"data\": {\"bar\": [{\"error_x\": {\"color\": \"#2a3f5f\"}, \"error_y\": {\"color\": \"#2a3f5f\"}, \"marker\": {\"line\": {\"color\": \"#E5ECF6\", \"width\": 0.5}}, \"type\": \"bar\"}], \"barpolar\": [{\"marker\": {\"line\": {\"color\": \"#E5ECF6\", \"width\": 0.5}}, \"type\": \"barpolar\"}], \"carpet\": [{\"aaxis\": {\"endlinecolor\": \"#2a3f5f\", \"gridcolor\": \"white\", \"linecolor\": \"white\", \"minorgridcolor\": \"white\", \"startlinecolor\": \"#2a3f5f\"}, \"baxis\": {\"endlinecolor\": \"#2a3f5f\", \"gridcolor\": \"white\", \"linecolor\": \"white\", \"minorgridcolor\": \"white\", \"startlinecolor\": \"#2a3f5f\"}, \"type\": \"carpet\"}], \"choropleth\": [{\"colorbar\": {\"outlinewidth\": 0, \"ticks\": \"\"}, \"type\": \"choropleth\"}], \"contour\": [{\"colorbar\": {\"outlinewidth\": 0, \"ticks\": \"\"}, \"colorscale\": [[0.0, \"#0d0887\"], [0.1111111111111111, \"#46039f\"], [0.2222222222222222, \"#7201a8\"], [0.3333333333333333, \"#9c179e\"], [0.4444444444444444, \"#bd3786\"], [0.5555555555555556, \"#d8576b\"], [0.6666666666666666, \"#ed7953\"], [0.7777777777777778, \"#fb9f3a\"], [0.8888888888888888, \"#fdca26\"], [1.0, \"#f0f921\"]], \"type\": \"contour\"}], \"contourcarpet\": [{\"colorbar\": {\"outlinewidth\": 0, \"ticks\": \"\"}, \"type\": \"contourcarpet\"}], \"heatmap\": [{\"colorbar\": {\"outlinewidth\": 0, \"ticks\": \"\"}, \"colorscale\": [[0.0, \"#0d0887\"], [0.1111111111111111, \"#46039f\"], [0.2222222222222222, \"#7201a8\"], [0.3333333333333333, \"#9c179e\"], [0.4444444444444444, \"#bd3786\"], [0.5555555555555556, \"#d8576b\"], [0.6666666666666666, \"#ed7953\"], [0.7777777777777778, \"#fb9f3a\"], [0.8888888888888888, \"#fdca26\"], [1.0, \"#f0f921\"]], \"type\": \"heatmap\"}], \"heatmapgl\": [{\"colorbar\": {\"outlinewidth\": 0, \"ticks\": \"\"}, \"colorscale\": [[0.0, \"#0d0887\"], [0.1111111111111111, \"#46039f\"], [0.2222222222222222, \"#7201a8\"], [0.3333333333333333, \"#9c179e\"], [0.4444444444444444, \"#bd3786\"], [0.5555555555555556, \"#d8576b\"], [0.6666666666666666, \"#ed7953\"], [0.7777777777777778, \"#fb9f3a\"], [0.8888888888888888, \"#fdca26\"], [1.0, \"#f0f921\"]], \"type\": \"heatmapgl\"}], \"histogram\": [{\"marker\": {\"colorbar\": {\"outlinewidth\": 0, \"ticks\": \"\"}}, \"type\": \"histogram\"}], \"histogram2d\": [{\"colorbar\": {\"outlinewidth\": 0, \"ticks\": \"\"}, \"colorscale\": [[0.0, \"#0d0887\"], [0.1111111111111111, \"#46039f\"], [0.2222222222222222, \"#7201a8\"], [0.3333333333333333, \"#9c179e\"], [0.4444444444444444, \"#bd3786\"], [0.5555555555555556, \"#d8576b\"], [0.6666666666666666, \"#ed7953\"], [0.7777777777777778, \"#fb9f3a\"], [0.8888888888888888, \"#fdca26\"], [1.0, \"#f0f921\"]], \"type\": \"histogram2d\"}], \"histogram2dcontour\": [{\"colorbar\": {\"outlinewidth\": 0, \"ticks\": \"\"}, \"colorscale\": [[0.0, \"#0d0887\"], [0.1111111111111111, \"#46039f\"], [0.2222222222222222, \"#7201a8\"], [0.3333333333333333, \"#9c179e\"], [0.4444444444444444, \"#bd3786\"], [0.5555555555555556, \"#d8576b\"], [0.6666666666666666, \"#ed7953\"], [0.7777777777777778, \"#fb9f3a\"], [0.8888888888888888, \"#fdca26\"], [1.0, \"#f0f921\"]], \"type\": \"histogram2dcontour\"}], \"mesh3d\": [{\"colorbar\": {\"outlinewidth\": 0, \"ticks\": \"\"}, \"type\": \"mesh3d\"}], \"parcoords\": [{\"line\": {\"colorbar\": {\"outlinewidth\": 0, \"ticks\": \"\"}}, \"type\": \"parcoords\"}], \"pie\": [{\"automargin\": true, \"type\": \"pie\"}], \"scatter\": [{\"marker\": {\"colorbar\": {\"outlinewidth\": 0, \"ticks\": \"\"}}, \"type\": \"scatter\"}], \"scatter3d\": [{\"line\": {\"colorbar\": {\"outlinewidth\": 0, \"ticks\": \"\"}}, \"marker\": {\"colorbar\": {\"outlinewidth\": 0, \"ticks\": \"\"}}, \"type\": \"scatter3d\"}], \"scattercarpet\": [{\"marker\": {\"colorbar\": {\"outlinewidth\": 0, \"ticks\": \"\"}}, \"type\": \"scattercarpet\"}], \"scattergeo\": [{\"marker\": {\"colorbar\": {\"outlinewidth\": 0, \"ticks\": \"\"}}, \"type\": \"scattergeo\"}], \"scattergl\": [{\"marker\": {\"colorbar\": {\"outlinewidth\": 0, \"ticks\": \"\"}}, \"type\": \"scattergl\"}], \"scattermapbox\": [{\"marker\": {\"colorbar\": {\"outlinewidth\": 0, \"ticks\": \"\"}}, \"type\": \"scattermapbox\"}], \"scatterpolar\": [{\"marker\": {\"colorbar\": {\"outlinewidth\": 0, \"ticks\": \"\"}}, \"type\": \"scatterpolar\"}], \"scatterpolargl\": [{\"marker\": {\"colorbar\": {\"outlinewidth\": 0, \"ticks\": \"\"}}, \"type\": \"scatterpolargl\"}], \"scatterternary\": [{\"marker\": {\"colorbar\": {\"outlinewidth\": 0, \"ticks\": \"\"}}, \"type\": \"scatterternary\"}], \"surface\": [{\"colorbar\": {\"outlinewidth\": 0, \"ticks\": \"\"}, \"colorscale\": [[0.0, \"#0d0887\"], [0.1111111111111111, \"#46039f\"], [0.2222222222222222, \"#7201a8\"], [0.3333333333333333, \"#9c179e\"], [0.4444444444444444, \"#bd3786\"], [0.5555555555555556, \"#d8576b\"], [0.6666666666666666, \"#ed7953\"], [0.7777777777777778, \"#fb9f3a\"], [0.8888888888888888, \"#fdca26\"], [1.0, \"#f0f921\"]], \"type\": \"surface\"}], \"table\": [{\"cells\": {\"fill\": {\"color\": \"#EBF0F8\"}, \"line\": {\"color\": \"white\"}}, \"header\": {\"fill\": {\"color\": \"#C8D4E3\"}, \"line\": {\"color\": \"white\"}}, \"type\": \"table\"}]}, \"layout\": {\"annotationdefaults\": {\"arrowcolor\": \"#2a3f5f\", \"arrowhead\": 0, \"arrowwidth\": 1}, \"coloraxis\": {\"colorbar\": {\"outlinewidth\": 0, \"ticks\": \"\"}}, \"colorscale\": {\"diverging\": [[0, \"#8e0152\"], [0.1, \"#c51b7d\"], [0.2, \"#de77ae\"], [0.3, \"#f1b6da\"], [0.4, \"#fde0ef\"], [0.5, \"#f7f7f7\"], [0.6, \"#e6f5d0\"], [0.7, \"#b8e186\"], [0.8, \"#7fbc41\"], [0.9, \"#4d9221\"], [1, \"#276419\"]], \"sequential\": [[0.0, \"#0d0887\"], [0.1111111111111111, \"#46039f\"], [0.2222222222222222, \"#7201a8\"], [0.3333333333333333, \"#9c179e\"], [0.4444444444444444, \"#bd3786\"], [0.5555555555555556, \"#d8576b\"], [0.6666666666666666, \"#ed7953\"], [0.7777777777777778, \"#fb9f3a\"], [0.8888888888888888, \"#fdca26\"], [1.0, \"#f0f921\"]], \"sequentialminus\": [[0.0, \"#0d0887\"], [0.1111111111111111, \"#46039f\"], [0.2222222222222222, \"#7201a8\"], [0.3333333333333333, \"#9c179e\"], [0.4444444444444444, \"#bd3786\"], [0.5555555555555556, \"#d8576b\"], [0.6666666666666666, \"#ed7953\"], [0.7777777777777778, \"#fb9f3a\"], [0.8888888888888888, \"#fdca26\"], [1.0, \"#f0f921\"]]}, \"colorway\": [\"#636efa\", \"#EF553B\", \"#00cc96\", \"#ab63fa\", \"#FFA15A\", \"#19d3f3\", \"#FF6692\", \"#B6E880\", \"#FF97FF\", \"#FECB52\"], \"font\": {\"color\": \"#2a3f5f\"}, \"geo\": {\"bgcolor\": \"white\", \"lakecolor\": \"white\", \"landcolor\": \"#E5ECF6\", \"showlakes\": true, \"showland\": true, \"subunitcolor\": \"white\"}, \"hoverlabel\": {\"align\": \"left\"}, \"hovermode\": \"closest\", \"mapbox\": {\"style\": \"light\"}, \"paper_bgcolor\": \"white\", \"plot_bgcolor\": \"#E5ECF6\", \"polar\": {\"angularaxis\": {\"gridcolor\": \"white\", \"linecolor\": \"white\", \"ticks\": \"\"}, \"bgcolor\": \"#E5ECF6\", \"radialaxis\": {\"gridcolor\": \"white\", \"linecolor\": \"white\", \"ticks\": \"\"}}, \"scene\": {\"xaxis\": {\"backgroundcolor\": \"#E5ECF6\", \"gridcolor\": \"white\", \"gridwidth\": 2, \"linecolor\": \"white\", \"showbackground\": true, \"ticks\": \"\", \"zerolinecolor\": \"white\"}, \"yaxis\": {\"backgroundcolor\": \"#E5ECF6\", \"gridcolor\": \"white\", \"gridwidth\": 2, \"linecolor\": \"white\", \"showbackground\": true, \"ticks\": \"\", \"zerolinecolor\": \"white\"}, \"zaxis\": {\"backgroundcolor\": \"#E5ECF6\", \"gridcolor\": \"white\", \"gridwidth\": 2, \"linecolor\": \"white\", \"showbackground\": true, \"ticks\": \"\", \"zerolinecolor\": \"white\"}}, \"shapedefaults\": {\"line\": {\"color\": \"#2a3f5f\"}}, \"ternary\": {\"aaxis\": {\"gridcolor\": \"white\", \"linecolor\": \"white\", \"ticks\": \"\"}, \"baxis\": {\"gridcolor\": \"white\", \"linecolor\": \"white\", \"ticks\": \"\"}, \"bgcolor\": \"#E5ECF6\", \"caxis\": {\"gridcolor\": \"white\", \"linecolor\": \"white\", \"ticks\": \"\"}}, \"title\": {\"x\": 0.05}, \"xaxis\": {\"automargin\": true, \"gridcolor\": \"white\", \"linecolor\": \"white\", \"ticks\": \"\", \"title\": {\"standoff\": 15}, \"zerolinecolor\": \"white\", \"zerolinewidth\": 2}, \"yaxis\": {\"automargin\": true, \"gridcolor\": \"white\", \"linecolor\": \"white\", \"ticks\": \"\", \"title\": {\"standoff\": 15}, \"zerolinecolor\": \"white\", \"zerolinewidth\": 2}}}},\n",
       "                        {\"responsive\": true}\n",
       "                    ).then(function(){\n",
       "                            \n",
       "var gd = document.getElementById('b82bdd4c-9624-46ed-a19a-574a14dd86bc');\n",
       "var x = new MutationObserver(function (mutations, observer) {{\n",
       "        var display = window.getComputedStyle(gd).display;\n",
       "        if (!display || display === 'none') {{\n",
       "            console.log([gd, 'removed!']);\n",
       "            Plotly.purge(gd);\n",
       "            observer.disconnect();\n",
       "        }}\n",
       "}});\n",
       "\n",
       "// Listen for the removal of the full notebook cells\n",
       "var notebookContainer = gd.closest('#notebook-container');\n",
       "if (notebookContainer) {{\n",
       "    x.observe(notebookContainer, {childList: true});\n",
       "}}\n",
       "\n",
       "// Listen for the clearing of the current output cell\n",
       "var outputEl = gd.closest('.output');\n",
       "if (outputEl) {{\n",
       "    x.observe(outputEl, {childList: true});\n",
       "}}\n",
       "\n",
       "                        })\n",
       "                };\n",
       "                });\n",
       "            </script>\n",
       "        </div>"
      ]
     },
     "metadata": {},
     "output_type": "display_data"
    },
    {
     "name": "stdout",
     "output_type": "stream",
     "text": [
      "Results/australia fire-2-.jpeg\n"
     ]
    }
   ],
   "source": [
    "from datetime import datetime, timedelta\n",
    "import pandas as pd\n",
    "from ModuleFiles.request import TrendReq\n",
    "from tqdm import tqdm\n",
    "import plotly.express as px\n",
    "import plotly.graph_objects as go\n",
    "\n",
    "\n",
    "def find_US_Trend(keywords_to_search):\n",
    "    country = \"US\"\n",
    "    pytrend = TrendReq()\n",
    "    Keyword = keywords_to_search\n",
    "    kw_list = [keywords_to_search] \n",
    "    pytrend.build_payload(kw_list, cat=0, geo=country,timeframe = \"now 7-d\" , gprop='')\n",
    "    City  = pytrend.interest_by_region(inc_low_vol=True, inc_geo_code=True)\n",
    "    City_Names = City.index\n",
    "    City[\"City_Names\"] = City_Names\n",
    "    All_City = list(City[\"geoCode\"])\n",
    "    country = All_City[0]\n",
    "    pytrend = TrendReq()\n",
    "    Keyword = keywords_to_search\n",
    "    kw_list = [keywords_to_search] \n",
    "    pytrend.build_payload(kw_list, cat=0, geo=country,timeframe = \"now 7-d\" , gprop='')\n",
    "    City  = pytrend.interest_by_region(resolution='CITY',inc_low_vol=True, inc_geo_code=False)\n",
    "    City_Names = City.index\n",
    "    City[\"City_Names\"] = City_Names\n",
    "    Country_Trend_Frame = City\n",
    "    \n",
    "    for city in All_City[1:]:\n",
    "        country = city\n",
    "        pytrend = TrendReq()\n",
    "        Keyword = keywords_to_search\n",
    "        kw_list = [keywords_to_search] \n",
    "        pytrend.build_payload(kw_list, cat=0, geo=country,timeframe = \"now 7-d\" , gprop='')\n",
    "        City  = pytrend.interest_by_region(resolution='CITY',inc_low_vol=True, inc_geo_code=False)\n",
    "        City_Names = City.index\n",
    "        City[\"City_Names\"] = City_Names\n",
    "        Country_Trend_Frame = pd.concat([Country_Trend_Frame, City])\n",
    "\n",
    "    Country_Trend_Frame.drop_duplicates(subset = Country_Trend_Frame.columns ,keep =\"first\", inplace = True)\n",
    "    US_Codes = pd.read_csv(\"Module-Data/US-Codes.csv\")\n",
    "\n",
    "    Results = []\n",
    "\n",
    "    for city in Country_Trend_Frame[\"City_Names\"]:\n",
    "        try:\n",
    "            Frame = Country_Trend_Frame[Country_Trend_Frame[\"City_Names\"]==city]\n",
    "            Frame.sort_values(keywords_to_search, axis = 0, ascending = False, inplace = True) \n",
    "            keywordValue = Frame.iloc[0][keywords_to_search].item()\n",
    "            Data = US_Codes[US_Codes[\"City-Name\"]== city]\n",
    "            latitude = Data[\"Latitude\"].item()\n",
    "            longitude = Data[\"Longitude\"].item()\n",
    "            Results.append((\n",
    "                city,\n",
    "                keywordValue,\n",
    "                latitude,\n",
    "                longitude\n",
    "            ))\n",
    "        except:\n",
    "            print(city)\n",
    "\n",
    "    Results = pd.DataFrame(Results,columns=[\"City\",\"Score\",\"lat\",\"lon\"])\n",
    "    fig = px.scatter_mapbox(Results, \n",
    "                            lat=\"lat\",\n",
    "                            lon=\"lon\",\n",
    "                            hover_name=\"City\",\n",
    "                            hover_data=[\"Score\"],\n",
    "                            size=\"Score\",\n",
    "                            zoom=3, \n",
    "                            height=300,\n",
    "                            size_max=10,\n",
    "                            color_continuous_scale=px.colors.cyclical.IceFire\n",
    "                            )\n",
    "\n",
    "    fig.update_layout(mapbox_style=\"carto-darkmatter\")\n",
    "    fig.update_layout(margin={\"r\":0,\"t\":0,\"l\":0,\"b\":0})\n",
    "    fig.show()\n",
    "    fileName = \"Results/\"+str(keywords_to_search)+\"-1-\"+\".jpeg\"\n",
    "    print(fileName)\n",
    "    fig.write_image(fileName)\n",
    "    \n",
    "    fig.update_layout(mapbox_style=\"carto-positron\")\n",
    "    fig.update_layout(margin={\"r\":0,\"t\":0,\"l\":0,\"b\":0})\n",
    "    fig.show()\n",
    "    fileName = \"Results/\"+str(keywords_to_search)+\"-2-\"+\".jpeg\"\n",
    "    print(fileName)\n",
    "    fig.write_image(fileName)\n",
    "    \n",
    "    \n",
    "find_US_Trend(\"australia fire\")\n",
    "        "
   ]
  },
  {
   "cell_type": "code",
   "execution_count": null,
   "metadata": {},
   "outputs": [],
   "source": []
  }
 ],
 "metadata": {
  "kernelspec": {
   "display_name": "Python 3",
   "language": "python",
   "name": "python3"
  },
  "language_info": {
   "codemirror_mode": {
    "name": "ipython",
    "version": 3
   },
   "file_extension": ".py",
   "mimetype": "text/x-python",
   "name": "python",
   "nbconvert_exporter": "python",
   "pygments_lexer": "ipython3",
   "version": "3.6.9"
  }
 },
 "nbformat": 4,
 "nbformat_minor": 4
}
